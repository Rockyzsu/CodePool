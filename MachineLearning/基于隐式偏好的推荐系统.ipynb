{
 "cells": [
  {
   "cell_type": "markdown",
   "metadata": {},
   "source": [
    "传统的协同过滤推荐系统一般基于是用户对商品的评分(如5星好评)，这些评分通常可以明确表达用户对商品的喜好,通过分析用户评分，协同过滤推荐算法可以为用户推荐他们可能喜好的其他商品。但是要收集用户评分有时候会非常的困难,大多数情况是我们无法收集到用户的评分，那如果没有用户评分我们还能开发推荐系统吗？其实也是可以的，除了“显示”的用户评分，还有一种“隐式”的用户对物品喜好的表达方式，如用户的点击，点赞，浏览，收藏，评论等行为，隐式的表达方式虽然没有显示的表达方式那样直接表达用户的喜好，但它也可以间接反映出用户对物品的喜好程度。今天我们就来尝试利用用户隐式偏好数据,如点击，点赞，浏览，收藏，评论等行为数据，同时使用python和implicit库来开发一个个性化的推荐系统。"
   ]
  },
  {
   "cell_type": "markdown",
   "metadata": {},
   "source": [
    "# 数据\n",
    "\n",
    "我们的数据来自于kaggle,你可以在这里下载，这里包含了两个数据文件(shared_articles.csv，users_interactions.csv)，请大家将它们下载下来，这些数据来自于Deskdrop是 CI＆T开发的内部通信平台,该平台还允许公司员工与同行分享相关文章，并围绕他们进行协作。数据包中含大约73,000个用户在平台上共享的3k多篇公共文章上的交互信息，更重要的是，它包含丰富的隐式反馈信息，记录了不同的交互类型，我们可以利用这些信息来推断用户对文章的兴趣程度。\n",
    "\n",
    "同时我们将会使用implicit库，它是基于隐式偏好数据的python快速协同过滤推荐算法,它主要通过矩阵分解的方法来预测用户对物品的评分，从而进行个性化的推荐。\n",
    "\n",
    "我们首先加载数据集："
   ]
  },
  {
   "cell_type": "code",
   "execution_count": 1,
   "metadata": {},
   "outputs": [],
   "source": [
    "import pandas as pd\n",
    "import scipy.sparse as sparse\n",
    "import numpy as np\n",
    "import random\n",
    "import implicit\n",
    "from sklearn.preprocessing import MinMaxScaler\n",
    "from sklearn import metrics"
   ]
  },
  {
   "cell_type": "code",
   "execution_count": 2,
   "metadata": {},
   "outputs": [
    {
     "name": "stdout",
     "output_type": "stream",
     "text": [
      "在shared_articles表的contentId 列中总共有 3057 个唯一值.\n",
      "在users_interactions表的personId 列中总共有 1895 个唯一值.\n"
     ]
    },
    {
     "data": {
      "text/html": [
       "<div>\n",
       "<style scoped>\n",
       "    .dataframe tbody tr th:only-of-type {\n",
       "        vertical-align: middle;\n",
       "    }\n",
       "\n",
       "    .dataframe tbody tr th {\n",
       "        vertical-align: top;\n",
       "    }\n",
       "\n",
       "    .dataframe thead th {\n",
       "        text-align: right;\n",
       "    }\n",
       "</style>\n",
       "<table border=\"1\" class=\"dataframe\">\n",
       "  <thead>\n",
       "    <tr style=\"text-align: right;\">\n",
       "      <th></th>\n",
       "      <th>timestamp</th>\n",
       "      <th>eventType</th>\n",
       "      <th>contentId</th>\n",
       "      <th>authorPersonId</th>\n",
       "      <th>authorSessionId</th>\n",
       "      <th>contentType</th>\n",
       "      <th>url</th>\n",
       "      <th>title</th>\n",
       "      <th>text</th>\n",
       "      <th>lang</th>\n",
       "    </tr>\n",
       "  </thead>\n",
       "  <tbody>\n",
       "    <tr>\n",
       "      <th>0</th>\n",
       "      <td>1459192779</td>\n",
       "      <td>CONTENT REMOVED</td>\n",
       "      <td>-6451309518266745024</td>\n",
       "      <td>4340306774493623681</td>\n",
       "      <td>8940341205206233829</td>\n",
       "      <td>HTML</td>\n",
       "      <td>http://www.nytimes.com/2016/03/28/business/dea...</td>\n",
       "      <td>Ethereum, a Virtual Currency, Enables Transact...</td>\n",
       "      <td>All of this work is still very early. The firs...</td>\n",
       "      <td>en</td>\n",
       "    </tr>\n",
       "    <tr>\n",
       "      <th>1</th>\n",
       "      <td>1459193988</td>\n",
       "      <td>CONTENT SHARED</td>\n",
       "      <td>-4110354420726924665</td>\n",
       "      <td>4340306774493623681</td>\n",
       "      <td>8940341205206233829</td>\n",
       "      <td>HTML</td>\n",
       "      <td>http://www.nytimes.com/2016/03/28/business/dea...</td>\n",
       "      <td>Ethereum, a Virtual Currency, Enables Transact...</td>\n",
       "      <td>All of this work is still very early. The firs...</td>\n",
       "      <td>en</td>\n",
       "    </tr>\n",
       "    <tr>\n",
       "      <th>2</th>\n",
       "      <td>1459194146</td>\n",
       "      <td>CONTENT SHARED</td>\n",
       "      <td>-7292285110016212249</td>\n",
       "      <td>4340306774493623681</td>\n",
       "      <td>8940341205206233829</td>\n",
       "      <td>HTML</td>\n",
       "      <td>http://cointelegraph.com/news/bitcoin-future-w...</td>\n",
       "      <td>Bitcoin Future: When GBPcoin of Branson Wins O...</td>\n",
       "      <td>The alarm clock wakes me at 8:00 with stream o...</td>\n",
       "      <td>en</td>\n",
       "    </tr>\n",
       "    <tr>\n",
       "      <th>3</th>\n",
       "      <td>1459194474</td>\n",
       "      <td>CONTENT SHARED</td>\n",
       "      <td>-6151852268067518688</td>\n",
       "      <td>3891637997717104548</td>\n",
       "      <td>-1457532940883382585</td>\n",
       "      <td>HTML</td>\n",
       "      <td>https://cloudplatform.googleblog.com/2016/03/G...</td>\n",
       "      <td>Google Data Center 360° Tour</td>\n",
       "      <td>We're excited to share the Google Data Center ...</td>\n",
       "      <td>en</td>\n",
       "    </tr>\n",
       "    <tr>\n",
       "      <th>4</th>\n",
       "      <td>1459194497</td>\n",
       "      <td>CONTENT SHARED</td>\n",
       "      <td>2448026894306402386</td>\n",
       "      <td>4340306774493623681</td>\n",
       "      <td>8940341205206233829</td>\n",
       "      <td>HTML</td>\n",
       "      <td>https://bitcoinmagazine.com/articles/ibm-wants...</td>\n",
       "      <td>IBM Wants to \"Evolve the Internet\" With Blockc...</td>\n",
       "      <td>The Aite Group projects the blockchain market ...</td>\n",
       "      <td>en</td>\n",
       "    </tr>\n",
       "  </tbody>\n",
       "</table>\n",
       "</div>"
      ],
      "text/plain": [
       "    timestamp        eventType            contentId       authorPersonId  \\\n",
       "0  1459192779  CONTENT REMOVED -6451309518266745024  4340306774493623681   \n",
       "1  1459193988   CONTENT SHARED -4110354420726924665  4340306774493623681   \n",
       "2  1459194146   CONTENT SHARED -7292285110016212249  4340306774493623681   \n",
       "3  1459194474   CONTENT SHARED -6151852268067518688  3891637997717104548   \n",
       "4  1459194497   CONTENT SHARED  2448026894306402386  4340306774493623681   \n",
       "\n",
       "       authorSessionId contentType  \\\n",
       "0  8940341205206233829        HTML   \n",
       "1  8940341205206233829        HTML   \n",
       "2  8940341205206233829        HTML   \n",
       "3 -1457532940883382585        HTML   \n",
       "4  8940341205206233829        HTML   \n",
       "\n",
       "                                                 url  \\\n",
       "0  http://www.nytimes.com/2016/03/28/business/dea...   \n",
       "1  http://www.nytimes.com/2016/03/28/business/dea...   \n",
       "2  http://cointelegraph.com/news/bitcoin-future-w...   \n",
       "3  https://cloudplatform.googleblog.com/2016/03/G...   \n",
       "4  https://bitcoinmagazine.com/articles/ibm-wants...   \n",
       "\n",
       "                                               title  \\\n",
       "0  Ethereum, a Virtual Currency, Enables Transact...   \n",
       "1  Ethereum, a Virtual Currency, Enables Transact...   \n",
       "2  Bitcoin Future: When GBPcoin of Branson Wins O...   \n",
       "3                       Google Data Center 360° Tour   \n",
       "4  IBM Wants to \"Evolve the Internet\" With Blockc...   \n",
       "\n",
       "                                                text lang  \n",
       "0  All of this work is still very early. The firs...   en  \n",
       "1  All of this work is still very early. The firs...   en  \n",
       "2  The alarm clock wakes me at 8:00 with stream o...   en  \n",
       "3  We're excited to share the Google Data Center ...   en  \n",
       "4  The Aite Group projects the blockchain market ...   en  "
      ]
     },
     "execution_count": 2,
     "metadata": {},
     "output_type": "execute_result"
    }
   ],
   "source": [
    "articles_df = pd.read_csv('./data/shared_articles.csv')\n",
    "interactions_df = pd.read_csv('./data/users_interactions.csv')\n",
    "articles_df.drop(['authorUserAgent', 'authorRegion', 'authorCountry'], axis=1, inplace=True)\n",
    "interactions_df.drop(['userAgent', 'userRegion', 'userCountry'], axis=1, inplace=True)\n",
    "articles_df = articles_df.drop_duplicates()\n",
    "interactions_df = interactions_df.drop_duplicates()\n",
    "print(\"在shared_articles表的contentId 列中总共有 %d 个唯一值.\" % articles_df['contentId'].nunique())\n",
    "print(\"在users_interactions表的personId 列中总共有 %d 个唯一值.\" % interactions_df['personId'].nunique())\n",
    "articles_df.head()"
   ]
  },
  {
   "cell_type": "code",
   "execution_count": 3,
   "metadata": {},
   "outputs": [
    {
     "data": {
      "text/html": [
       "<div>\n",
       "<style scoped>\n",
       "    .dataframe tbody tr th:only-of-type {\n",
       "        vertical-align: middle;\n",
       "    }\n",
       "\n",
       "    .dataframe tbody tr th {\n",
       "        vertical-align: top;\n",
       "    }\n",
       "\n",
       "    .dataframe thead th {\n",
       "        text-align: right;\n",
       "    }\n",
       "</style>\n",
       "<table border=\"1\" class=\"dataframe\">\n",
       "  <thead>\n",
       "    <tr style=\"text-align: right;\">\n",
       "      <th></th>\n",
       "      <th>timestamp</th>\n",
       "      <th>eventType</th>\n",
       "      <th>contentId</th>\n",
       "      <th>personId</th>\n",
       "      <th>sessionId</th>\n",
       "    </tr>\n",
       "  </thead>\n",
       "  <tbody>\n",
       "    <tr>\n",
       "      <th>0</th>\n",
       "      <td>1465413032</td>\n",
       "      <td>VIEW</td>\n",
       "      <td>-3499919498720038879</td>\n",
       "      <td>-8845298781299428018</td>\n",
       "      <td>1264196770339959068</td>\n",
       "    </tr>\n",
       "    <tr>\n",
       "      <th>1</th>\n",
       "      <td>1465412560</td>\n",
       "      <td>VIEW</td>\n",
       "      <td>8890720798209849691</td>\n",
       "      <td>-1032019229384696495</td>\n",
       "      <td>3621737643587579081</td>\n",
       "    </tr>\n",
       "    <tr>\n",
       "      <th>2</th>\n",
       "      <td>1465416190</td>\n",
       "      <td>VIEW</td>\n",
       "      <td>310515487419366995</td>\n",
       "      <td>-1130272294246983140</td>\n",
       "      <td>2631864456530402479</td>\n",
       "    </tr>\n",
       "    <tr>\n",
       "      <th>3</th>\n",
       "      <td>1465413895</td>\n",
       "      <td>FOLLOW</td>\n",
       "      <td>310515487419366995</td>\n",
       "      <td>344280948527967603</td>\n",
       "      <td>-3167637573980064150</td>\n",
       "    </tr>\n",
       "    <tr>\n",
       "      <th>4</th>\n",
       "      <td>1465412290</td>\n",
       "      <td>VIEW</td>\n",
       "      <td>-7820640624231356730</td>\n",
       "      <td>-445337111692715325</td>\n",
       "      <td>5611481178424124714</td>\n",
       "    </tr>\n",
       "  </tbody>\n",
       "</table>\n",
       "</div>"
      ],
      "text/plain": [
       "    timestamp eventType            contentId             personId  \\\n",
       "0  1465413032      VIEW -3499919498720038879 -8845298781299428018   \n",
       "1  1465412560      VIEW  8890720798209849691 -1032019229384696495   \n",
       "2  1465416190      VIEW   310515487419366995 -1130272294246983140   \n",
       "3  1465413895    FOLLOW   310515487419366995   344280948527967603   \n",
       "4  1465412290      VIEW -7820640624231356730  -445337111692715325   \n",
       "\n",
       "             sessionId  \n",
       "0  1264196770339959068  \n",
       "1  3621737643587579081  \n",
       "2  2631864456530402479  \n",
       "3 -3167637573980064150  \n",
       "4  5611481178424124714  "
      ]
     },
     "execution_count": 3,
     "metadata": {},
     "output_type": "execute_result"
    }
   ],
   "source": [
    "interactions_df.head()"
   ]
  },
  {
   "cell_type": "code",
   "execution_count": 4,
   "metadata": {},
   "outputs": [
    {
     "data": {
      "text/plain": [
       "CONTENT SHARED     3047\n",
       "CONTENT REMOVED      75\n",
       "Name: eventType, dtype: int64"
      ]
     },
     "execution_count": 4,
     "metadata": {},
     "output_type": "execute_result"
    }
   ],
   "source": [
    "articles_df['eventType'].value_counts()"
   ]
  },
  {
   "cell_type": "code",
   "execution_count": 5,
   "metadata": {},
   "outputs": [],
   "source": [
    "articles_df = articles_df[articles_df['eventType'] == 'CONTENT SHARED']\n",
    "articles_df.drop('eventType', axis=1, inplace=True)"
   ]
  },
  {
   "cell_type": "code",
   "execution_count": 6,
   "metadata": {},
   "outputs": [
    {
     "name": "stdout",
     "output_type": "stream",
     "text": [
      "<class 'pandas.core.frame.DataFrame'>\n",
      "Int64Index: 3047 entries, 1 to 3121\n",
      "Data columns (total 9 columns):\n",
      "timestamp          3047 non-null int64\n",
      "contentId          3047 non-null int64\n",
      "authorPersonId     3047 non-null int64\n",
      "authorSessionId    3047 non-null int64\n",
      "contentType        3047 non-null object\n",
      "url                3047 non-null object\n",
      "title              3047 non-null object\n",
      "text               3047 non-null object\n",
      "lang               3047 non-null object\n",
      "dtypes: int64(4), object(5)\n",
      "memory usage: 238.0+ KB\n"
     ]
    }
   ],
   "source": [
    "articles_df.info()"
   ]
  },
  {
   "cell_type": "code",
   "execution_count": 7,
   "metadata": {},
   "outputs": [
    {
     "name": "stdout",
     "output_type": "stream",
     "text": [
      "<class 'pandas.core.frame.DataFrame'>\n",
      "Int64Index: 70028 entries, 0 to 72311\n",
      "Data columns (total 5 columns):\n",
      "timestamp    70028 non-null int64\n",
      "eventType    70028 non-null object\n",
      "contentId    70028 non-null int64\n",
      "personId     70028 non-null int64\n",
      "sessionId    70028 non-null int64\n",
      "dtypes: int64(4), object(1)\n",
      "memory usage: 3.2+ MB\n"
     ]
    }
   ],
   "source": [
    "interactions_df.info()"
   ]
  },
  {
   "cell_type": "markdown",
   "metadata": {},
   "source": [
    "# 数据预处理 \n",
    "\n",
    " 接下来我们要对shared_articles.csv和users_interactions.csv中的数据进行整理，并删除一些不需要的列,并将两个表进行合并"
   ]
  },
  {
   "cell_type": "code",
   "execution_count": 8,
   "metadata": {},
   "outputs": [
    {
     "data": {
      "text/html": [
       "<div>\n",
       "<style scoped>\n",
       "    .dataframe tbody tr th:only-of-type {\n",
       "        vertical-align: middle;\n",
       "    }\n",
       "\n",
       "    .dataframe tbody tr th {\n",
       "        vertical-align: top;\n",
       "    }\n",
       "\n",
       "    .dataframe thead th {\n",
       "        text-align: right;\n",
       "    }\n",
       "</style>\n",
       "<table border=\"1\" class=\"dataframe\">\n",
       "  <thead>\n",
       "    <tr style=\"text-align: right;\">\n",
       "      <th></th>\n",
       "      <th>contentId</th>\n",
       "      <th>personId</th>\n",
       "      <th>eventType</th>\n",
       "      <th>title</th>\n",
       "    </tr>\n",
       "  </thead>\n",
       "  <tbody>\n",
       "    <tr>\n",
       "      <th>0</th>\n",
       "      <td>-3499919498720038879</td>\n",
       "      <td>-8845298781299428018</td>\n",
       "      <td>VIEW</td>\n",
       "      <td>Hiri wants to fix the workplace email problem</td>\n",
       "    </tr>\n",
       "    <tr>\n",
       "      <th>1</th>\n",
       "      <td>-3499919498720038879</td>\n",
       "      <td>-8845298781299428018</td>\n",
       "      <td>VIEW</td>\n",
       "      <td>Hiri wants to fix the workplace email problem</td>\n",
       "    </tr>\n",
       "    <tr>\n",
       "      <th>2</th>\n",
       "      <td>-3499919498720038879</td>\n",
       "      <td>-108842214936804958</td>\n",
       "      <td>VIEW</td>\n",
       "      <td>Hiri wants to fix the workplace email problem</td>\n",
       "    </tr>\n",
       "    <tr>\n",
       "      <th>3</th>\n",
       "      <td>-3499919498720038879</td>\n",
       "      <td>-1443636648652872475</td>\n",
       "      <td>VIEW</td>\n",
       "      <td>Hiri wants to fix the workplace email problem</td>\n",
       "    </tr>\n",
       "    <tr>\n",
       "      <th>4</th>\n",
       "      <td>-3499919498720038879</td>\n",
       "      <td>-1443636648652872475</td>\n",
       "      <td>VIEW</td>\n",
       "      <td>Hiri wants to fix the workplace email problem</td>\n",
       "    </tr>\n",
       "  </tbody>\n",
       "</table>\n",
       "</div>"
      ],
      "text/plain": [
       "             contentId             personId eventType  \\\n",
       "0 -3499919498720038879 -8845298781299428018      VIEW   \n",
       "1 -3499919498720038879 -8845298781299428018      VIEW   \n",
       "2 -3499919498720038879  -108842214936804958      VIEW   \n",
       "3 -3499919498720038879 -1443636648652872475      VIEW   \n",
       "4 -3499919498720038879 -1443636648652872475      VIEW   \n",
       "\n",
       "                                           title  \n",
       "0  Hiri wants to fix the workplace email problem  \n",
       "1  Hiri wants to fix the workplace email problem  \n",
       "2  Hiri wants to fix the workplace email problem  \n",
       "3  Hiri wants to fix the workplace email problem  \n",
       "4  Hiri wants to fix the workplace email problem  "
      ]
     },
     "execution_count": 8,
     "metadata": {},
     "output_type": "execute_result"
    }
   ],
   "source": [
    "df = pd.merge(interactions_df[['contentId','personId', 'eventType']], articles_df[['contentId', 'title']], how = 'inner', on = 'contentId')\n",
    "df.head()"
   ]
  },
  {
   "cell_type": "code",
   "execution_count": 9,
   "metadata": {},
   "outputs": [
    {
     "name": "stdout",
     "output_type": "stream",
     "text": [
      "<class 'pandas.core.frame.DataFrame'>\n",
      "Int64Index: 69985 entries, 0 to 69984\n",
      "Data columns (total 4 columns):\n",
      "contentId    69985 non-null int64\n",
      "personId     69985 non-null int64\n",
      "eventType    69985 non-null object\n",
      "title        69985 non-null object\n",
      "dtypes: int64(2), object(2)\n",
      "memory usage: 2.7+ MB\n"
     ]
    }
   ],
   "source": [
    "df.info()"
   ]
  },
  {
   "cell_type": "markdown",
   "metadata": {},
   "source": [
    "\"eventType\"字段记录了用户行为的类别，因此我们需要查看一下用户行为的分类情况："
   ]
  },
  {
   "cell_type": "code",
   "execution_count": 10,
   "metadata": {},
   "outputs": [
    {
     "data": {
      "text/plain": [
       "VIEW               58759\n",
       "LIKE                5745\n",
       "BOOKMARK            2463\n",
       "COMMENT CREATED     1611\n",
       "FOLLOW              1407\n",
       "Name: eventType, dtype: int64"
      ]
     },
     "execution_count": 10,
     "metadata": {},
     "output_type": "execute_result"
    }
   ],
   "source": [
    "df['eventType'].value_counts()"
   ]
  },
  {
   "cell_type": "markdown",
   "metadata": {},
   "source": [
    "我们看到存在以下5种用户行为分类:\n",
    "\n",
    "* VIEW: 查看，表示用户点击过该篇文章\n",
    "* LIKE:  点赞，表示用户喜好该篇文章。\n",
    "* BOOKMARK: 加入书签，用户已将该文章加入书签，以便将来查看。这是用户对该文章表现出感兴趣的迹象\n",
    "* COMMENT CREATED: 创建评论，说明用户被这篇文章所吸引，同时希望表达自己的观点。\n",
    "* FOLLOW: 关注，用户关注了文章的作者，这应该说明用户对这位作者的文章非常感兴趣  \n",
    "\n",
    "我们可以认为上述的5种用户行为可以表达出用户对文章的不同的喜好程度，为此我们可以为这5种用户行为各打上一个分值，以便量化用户的喜好程度:"
   ]
  },
  {
   "cell_type": "code",
   "execution_count": 11,
   "metadata": {},
   "outputs": [
    {
     "data": {
      "text/html": [
       "<div>\n",
       "<style scoped>\n",
       "    .dataframe tbody tr th:only-of-type {\n",
       "        vertical-align: middle;\n",
       "    }\n",
       "\n",
       "    .dataframe tbody tr th {\n",
       "        vertical-align: top;\n",
       "    }\n",
       "\n",
       "    .dataframe thead th {\n",
       "        text-align: right;\n",
       "    }\n",
       "</style>\n",
       "<table border=\"1\" class=\"dataframe\">\n",
       "  <thead>\n",
       "    <tr style=\"text-align: right;\">\n",
       "      <th></th>\n",
       "      <th>contentId</th>\n",
       "      <th>personId</th>\n",
       "      <th>eventType</th>\n",
       "      <th>title</th>\n",
       "      <th>eventStrength</th>\n",
       "    </tr>\n",
       "  </thead>\n",
       "  <tbody>\n",
       "    <tr>\n",
       "      <th>68299</th>\n",
       "      <td>2760335717049716507</td>\n",
       "      <td>-2726721797588771398</td>\n",
       "      <td>VIEW</td>\n",
       "      <td>Razorfish, US digital revenues, drag down Publ...</td>\n",
       "      <td>1.0</td>\n",
       "    </tr>\n",
       "    <tr>\n",
       "      <th>10531</th>\n",
       "      <td>2602738827388230683</td>\n",
       "      <td>-1443636648652872475</td>\n",
       "      <td>VIEW</td>\n",
       "      <td>Apple is working on an AI system that wipes th...</td>\n",
       "      <td>1.0</td>\n",
       "    </tr>\n",
       "    <tr>\n",
       "      <th>34808</th>\n",
       "      <td>-5879360586463363298</td>\n",
       "      <td>7741213197781008422</td>\n",
       "      <td>VIEW</td>\n",
       "      <td>Introducing LambCI - a serverless build system</td>\n",
       "      <td>1.0</td>\n",
       "    </tr>\n",
       "    <tr>\n",
       "      <th>2511</th>\n",
       "      <td>5964888566269323942</td>\n",
       "      <td>4670267857749552625</td>\n",
       "      <td>VIEW</td>\n",
       "      <td>PwC faz virada digital e já fatura US$ 1 bilhã...</td>\n",
       "      <td>1.0</td>\n",
       "    </tr>\n",
       "    <tr>\n",
       "      <th>39484</th>\n",
       "      <td>-2447632164766022033</td>\n",
       "      <td>-3643155458357242906</td>\n",
       "      <td>VIEW</td>\n",
       "      <td>O que o GitHub tem a nos dizer sobre os estere...</td>\n",
       "      <td>1.0</td>\n",
       "    </tr>\n",
       "    <tr>\n",
       "      <th>54306</th>\n",
       "      <td>6031953227014493100</td>\n",
       "      <td>3007673865213720513</td>\n",
       "      <td>VIEW</td>\n",
       "      <td>O chefe é gay. E daí?</td>\n",
       "      <td>1.0</td>\n",
       "    </tr>\n",
       "    <tr>\n",
       "      <th>31294</th>\n",
       "      <td>-5014627593450767720</td>\n",
       "      <td>8271619811366074205</td>\n",
       "      <td>VIEW</td>\n",
       "      <td>Drupal and ambitious digital experiences</td>\n",
       "      <td>1.0</td>\n",
       "    </tr>\n",
       "    <tr>\n",
       "      <th>5329</th>\n",
       "      <td>-3581194288660477595</td>\n",
       "      <td>-1032019229384696495</td>\n",
       "      <td>LIKE</td>\n",
       "      <td>The End Of Apple Man</td>\n",
       "      <td>2.0</td>\n",
       "    </tr>\n",
       "    <tr>\n",
       "      <th>14908</th>\n",
       "      <td>880612740433495828</td>\n",
       "      <td>6013226412048763966</td>\n",
       "      <td>VIEW</td>\n",
       "      <td>O que você deve fazer para se tornar um líder ...</td>\n",
       "      <td>1.0</td>\n",
       "    </tr>\n",
       "    <tr>\n",
       "      <th>52071</th>\n",
       "      <td>3367026768872537336</td>\n",
       "      <td>-9223121837663643404</td>\n",
       "      <td>VIEW</td>\n",
       "      <td>Seja esperto no trabalho: Melhore a comunicaçã...</td>\n",
       "      <td>1.0</td>\n",
       "    </tr>\n",
       "  </tbody>\n",
       "</table>\n",
       "</div>"
      ],
      "text/plain": [
       "                 contentId             personId eventType  \\\n",
       "68299  2760335717049716507 -2726721797588771398      VIEW   \n",
       "10531  2602738827388230683 -1443636648652872475      VIEW   \n",
       "34808 -5879360586463363298  7741213197781008422      VIEW   \n",
       "2511   5964888566269323942  4670267857749552625      VIEW   \n",
       "39484 -2447632164766022033 -3643155458357242906      VIEW   \n",
       "54306  6031953227014493100  3007673865213720513      VIEW   \n",
       "31294 -5014627593450767720  8271619811366074205      VIEW   \n",
       "5329  -3581194288660477595 -1032019229384696495      LIKE   \n",
       "14908   880612740433495828  6013226412048763966      VIEW   \n",
       "52071  3367026768872537336 -9223121837663643404      VIEW   \n",
       "\n",
       "                                                   title  eventStrength  \n",
       "68299  Razorfish, US digital revenues, drag down Publ...            1.0  \n",
       "10531  Apple is working on an AI system that wipes th...            1.0  \n",
       "34808     Introducing LambCI - a serverless build system            1.0  \n",
       "2511   PwC faz virada digital e já fatura US$ 1 bilhã...            1.0  \n",
       "39484  O que o GitHub tem a nos dizer sobre os estere...            1.0  \n",
       "54306                              O chefe é gay. E daí?            1.0  \n",
       "31294           Drupal and ambitious digital experiences            1.0  \n",
       "5329                                The End Of Apple Man            2.0  \n",
       "14908  O que você deve fazer para se tornar um líder ...            1.0  \n",
       "52071  Seja esperto no trabalho: Melhore a comunicaçã...            1.0  "
      ]
     },
     "execution_count": 11,
     "metadata": {},
     "output_type": "execute_result"
    }
   ],
   "source": [
    "event_type_strength = {\n",
    "   'VIEW': 1.0,\n",
    "   'LIKE': 2.0, \n",
    "   'BOOKMARK': 3.0, \n",
    "   'FOLLOW': 4.0,\n",
    "   'COMMENT CREATED': 5.0,  \n",
    "}\n",
    "\n",
    "df['eventStrength'] = df['eventType'].apply(lambda x: event_type_strength[x])\n",
    "df.sample(10)"
   ]
  },
  {
   "cell_type": "code",
   "execution_count": 12,
   "metadata": {},
   "outputs": [
    {
     "data": {
      "text/html": [
       "<div>\n",
       "<style scoped>\n",
       "    .dataframe tbody tr th:only-of-type {\n",
       "        vertical-align: middle;\n",
       "    }\n",
       "\n",
       "    .dataframe tbody tr th {\n",
       "        vertical-align: top;\n",
       "    }\n",
       "\n",
       "    .dataframe thead th {\n",
       "        text-align: right;\n",
       "    }\n",
       "</style>\n",
       "<table border=\"1\" class=\"dataframe\">\n",
       "  <thead>\n",
       "    <tr style=\"text-align: right;\">\n",
       "      <th></th>\n",
       "      <th>personId</th>\n",
       "      <th>contentId</th>\n",
       "      <th>title</th>\n",
       "      <th>eventStrength</th>\n",
       "    </tr>\n",
       "  </thead>\n",
       "  <tbody>\n",
       "    <tr>\n",
       "      <th>1758</th>\n",
       "      <td>-8674958742744576254</td>\n",
       "      <td>-1452340812018195881</td>\n",
       "      <td>Globo G1 lança Bot para o Telegram que te ajud...</td>\n",
       "      <td>1.0</td>\n",
       "    </tr>\n",
       "    <tr>\n",
       "      <th>39138</th>\n",
       "      <td>8562738815734604501</td>\n",
       "      <td>-4625438649010928449</td>\n",
       "      <td>Top Asset Tracking Software: The 52 Best Tools...</td>\n",
       "      <td>1.0</td>\n",
       "    </tr>\n",
       "    <tr>\n",
       "      <th>26505</th>\n",
       "      <td>2754566407772265068</td>\n",
       "      <td>8582210754044680874</td>\n",
       "      <td>Reactive log stream processing with RxJava - P...</td>\n",
       "      <td>1.0</td>\n",
       "    </tr>\n",
       "    <tr>\n",
       "      <th>18400</th>\n",
       "      <td>-830175562779396891</td>\n",
       "      <td>-1178371721262103855</td>\n",
       "      <td>Ultrapar, por meio da Ipiranga, assina compra ...</td>\n",
       "      <td>1.0</td>\n",
       "    </tr>\n",
       "    <tr>\n",
       "      <th>23205</th>\n",
       "      <td>1120069409160402054</td>\n",
       "      <td>-1897853393557630253</td>\n",
       "      <td>Your health insurance might score you an Apple...</td>\n",
       "      <td>1.0</td>\n",
       "    </tr>\n",
       "    <tr>\n",
       "      <th>16885</th>\n",
       "      <td>-1393866732742189886</td>\n",
       "      <td>7459643459148487877</td>\n",
       "      <td>Grupo de bancos adere à tecnologia do bitcoin ...</td>\n",
       "      <td>1.0</td>\n",
       "    </tr>\n",
       "    <tr>\n",
       "      <th>30406</th>\n",
       "      <td>3813842765808990208</td>\n",
       "      <td>5962268176939710955</td>\n",
       "      <td>BigQuery 1.11, now with Standard SQL, IAM, and...</td>\n",
       "      <td>1.0</td>\n",
       "    </tr>\n",
       "    <tr>\n",
       "      <th>5312</th>\n",
       "      <td>-6874532444478397764</td>\n",
       "      <td>897043351348716074</td>\n",
       "      <td>Mark Zuckerberg compartilha como será o Facebo...</td>\n",
       "      <td>1.0</td>\n",
       "    </tr>\n",
       "    <tr>\n",
       "      <th>10020</th>\n",
       "      <td>-4028919343899978105</td>\n",
       "      <td>-912681925384819247</td>\n",
       "      <td>15 Interesting JavaScript and CSS Libraries fo...</td>\n",
       "      <td>3.0</td>\n",
       "    </tr>\n",
       "    <tr>\n",
       "      <th>15120</th>\n",
       "      <td>-1799631734242668035</td>\n",
       "      <td>-746073086109727488</td>\n",
       "      <td>How to get the most from your agency relations...</td>\n",
       "      <td>12.0</td>\n",
       "    </tr>\n",
       "  </tbody>\n",
       "</table>\n",
       "</div>"
      ],
      "text/plain": [
       "                  personId            contentId  \\\n",
       "1758  -8674958742744576254 -1452340812018195881   \n",
       "39138  8562738815734604501 -4625438649010928449   \n",
       "26505  2754566407772265068  8582210754044680874   \n",
       "18400  -830175562779396891 -1178371721262103855   \n",
       "23205  1120069409160402054 -1897853393557630253   \n",
       "16885 -1393866732742189886  7459643459148487877   \n",
       "30406  3813842765808990208  5962268176939710955   \n",
       "5312  -6874532444478397764   897043351348716074   \n",
       "10020 -4028919343899978105  -912681925384819247   \n",
       "15120 -1799631734242668035  -746073086109727488   \n",
       "\n",
       "                                                   title  eventStrength  \n",
       "1758   Globo G1 lança Bot para o Telegram que te ajud...            1.0  \n",
       "39138  Top Asset Tracking Software: The 52 Best Tools...            1.0  \n",
       "26505  Reactive log stream processing with RxJava - P...            1.0  \n",
       "18400  Ultrapar, por meio da Ipiranga, assina compra ...            1.0  \n",
       "23205  Your health insurance might score you an Apple...            1.0  \n",
       "16885  Grupo de bancos adere à tecnologia do bitcoin ...            1.0  \n",
       "30406  BigQuery 1.11, now with Standard SQL, IAM, and...            1.0  \n",
       "5312   Mark Zuckerberg compartilha como será o Facebo...            1.0  \n",
       "10020  15 Interesting JavaScript and CSS Libraries fo...            3.0  \n",
       "15120  How to get the most from your agency relations...           12.0  "
      ]
     },
     "execution_count": 12,
     "metadata": {},
     "output_type": "execute_result"
    }
   ],
   "source": [
    "df = df.drop_duplicates()\n",
    "grouped_df = df.groupby(['personId', 'contentId', 'title']).sum().reset_index()\n",
    "grouped_df.sample(10)"
   ]
  },
  {
   "cell_type": "code",
   "execution_count": 13,
   "metadata": {},
   "outputs": [
    {
     "data": {
      "text/plain": [
       "personId           int64\n",
       "contentId          int64\n",
       "title             object\n",
       "eventStrength    float64\n",
       "dtype: object"
      ]
     },
     "execution_count": 13,
     "metadata": {},
     "output_type": "execute_result"
    }
   ],
   "source": [
    "grouped_df.dtypes"
   ]
  },
  {
   "cell_type": "markdown",
   "metadata": {},
   "source": [
    "personId和contentId都是int64的长整型字段，为了避免出现负整数警告信息以及为了节省内存空间，我们可以将他们转换成int16的短整型字段:"
   ]
  },
  {
   "cell_type": "code",
   "execution_count": 14,
   "metadata": {},
   "outputs": [
    {
     "data": {
      "text/html": [
       "<div>\n",
       "<style scoped>\n",
       "    .dataframe tbody tr th:only-of-type {\n",
       "        vertical-align: middle;\n",
       "    }\n",
       "\n",
       "    .dataframe tbody tr th {\n",
       "        vertical-align: top;\n",
       "    }\n",
       "\n",
       "    .dataframe thead th {\n",
       "        text-align: right;\n",
       "    }\n",
       "</style>\n",
       "<table border=\"1\" class=\"dataframe\">\n",
       "  <thead>\n",
       "    <tr style=\"text-align: right;\">\n",
       "      <th></th>\n",
       "      <th>personId</th>\n",
       "      <th>contentId</th>\n",
       "      <th>title</th>\n",
       "      <th>eventStrength</th>\n",
       "      <th>person_id</th>\n",
       "      <th>content_id</th>\n",
       "    </tr>\n",
       "  </thead>\n",
       "  <tbody>\n",
       "    <tr>\n",
       "      <th>16568</th>\n",
       "      <td>-1443636648652872475</td>\n",
       "      <td>5314107418764884230</td>\n",
       "      <td>Deep learning software knows that a rose is a ...</td>\n",
       "      <td>10.0</td>\n",
       "      <td>798</td>\n",
       "      <td>2343</td>\n",
       "    </tr>\n",
       "    <tr>\n",
       "      <th>9002</th>\n",
       "      <td>-4447090897576014728</td>\n",
       "      <td>-4130193294870737688</td>\n",
       "      <td>Game of Loans</td>\n",
       "      <td>1.0</td>\n",
       "      <td>492</td>\n",
       "      <td>829</td>\n",
       "    </tr>\n",
       "    <tr>\n",
       "      <th>5544</th>\n",
       "      <td>-6786856227257648356</td>\n",
       "      <td>9042192299854648021</td>\n",
       "      <td>Google's cloud platform is now a force to be r...</td>\n",
       "      <td>1.0</td>\n",
       "      <td>245</td>\n",
       "      <td>2952</td>\n",
       "    </tr>\n",
       "    <tr>\n",
       "      <th>33662</th>\n",
       "      <td>5321535590192312132</td>\n",
       "      <td>-5813211845057621660</td>\n",
       "      <td>Communication patterns in a Microservice world</td>\n",
       "      <td>1.0</td>\n",
       "      <td>1488</td>\n",
       "      <td>558</td>\n",
       "    </tr>\n",
       "    <tr>\n",
       "      <th>1096</th>\n",
       "      <td>-8860671864164757449</td>\n",
       "      <td>3608243634452078989</td>\n",
       "      <td>Carne artificial acabará com o agronegócio bra...</td>\n",
       "      <td>1.0</td>\n",
       "      <td>29</td>\n",
       "      <td>2058</td>\n",
       "    </tr>\n",
       "    <tr>\n",
       "      <th>9329</th>\n",
       "      <td>-4298177694576275482</td>\n",
       "      <td>2301338403202434417</td>\n",
       "      <td>Top 10 GCP sessions from Google I/O 2016</td>\n",
       "      <td>1.0</td>\n",
       "      <td>509</td>\n",
       "      <td>1833</td>\n",
       "    </tr>\n",
       "    <tr>\n",
       "      <th>7095</th>\n",
       "      <td>-5706287032724665714</td>\n",
       "      <td>-4707863452603278075</td>\n",
       "      <td>PSA: iOS 9.3.5 fixes serious security exploit ...</td>\n",
       "      <td>1.0</td>\n",
       "      <td>348</td>\n",
       "      <td>741</td>\n",
       "    </tr>\n",
       "    <tr>\n",
       "      <th>14147</th>\n",
       "      <td>-2511855597392146401</td>\n",
       "      <td>-8909927294729358771</td>\n",
       "      <td>Android N Developer Preview 2, out today! | An...</td>\n",
       "      <td>3.0</td>\n",
       "      <td>693</td>\n",
       "      <td>75</td>\n",
       "    </tr>\n",
       "    <tr>\n",
       "      <th>25494</th>\n",
       "      <td>2279740393166882579</td>\n",
       "      <td>-6810702648836067504</td>\n",
       "      <td>diagramas para entender, criar, inovar e empre...</td>\n",
       "      <td>1.0</td>\n",
       "      <td>1182</td>\n",
       "      <td>401</td>\n",
       "    </tr>\n",
       "    <tr>\n",
       "      <th>29014</th>\n",
       "      <td>3609194402293569455</td>\n",
       "      <td>-3095494965842381869</td>\n",
       "      <td>Fintechs can help incumbents, not just disrupt...</td>\n",
       "      <td>1.0</td>\n",
       "      <td>1319</td>\n",
       "      <td>998</td>\n",
       "    </tr>\n",
       "  </tbody>\n",
       "</table>\n",
       "</div>"
      ],
      "text/plain": [
       "                  personId            contentId  \\\n",
       "16568 -1443636648652872475  5314107418764884230   \n",
       "9002  -4447090897576014728 -4130193294870737688   \n",
       "5544  -6786856227257648356  9042192299854648021   \n",
       "33662  5321535590192312132 -5813211845057621660   \n",
       "1096  -8860671864164757449  3608243634452078989   \n",
       "9329  -4298177694576275482  2301338403202434417   \n",
       "7095  -5706287032724665714 -4707863452603278075   \n",
       "14147 -2511855597392146401 -8909927294729358771   \n",
       "25494  2279740393166882579 -6810702648836067504   \n",
       "29014  3609194402293569455 -3095494965842381869   \n",
       "\n",
       "                                                   title  eventStrength  \\\n",
       "16568  Deep learning software knows that a rose is a ...           10.0   \n",
       "9002                                       Game of Loans            1.0   \n",
       "5544   Google's cloud platform is now a force to be r...            1.0   \n",
       "33662     Communication patterns in a Microservice world            1.0   \n",
       "1096   Carne artificial acabará com o agronegócio bra...            1.0   \n",
       "9329            Top 10 GCP sessions from Google I/O 2016            1.0   \n",
       "7095   PSA: iOS 9.3.5 fixes serious security exploit ...            1.0   \n",
       "14147  Android N Developer Preview 2, out today! | An...            3.0   \n",
       "25494  diagramas para entender, criar, inovar e empre...            1.0   \n",
       "29014  Fintechs can help incumbents, not just disrupt...            1.0   \n",
       "\n",
       "       person_id  content_id  \n",
       "16568        798        2343  \n",
       "9002         492         829  \n",
       "5544         245        2952  \n",
       "33662       1488         558  \n",
       "1096          29        2058  \n",
       "9329         509        1833  \n",
       "7095         348         741  \n",
       "14147        693          75  \n",
       "25494       1182         401  \n",
       "29014       1319         998  "
      ]
     },
     "execution_count": 14,
     "metadata": {},
     "output_type": "execute_result"
    }
   ],
   "source": [
    "grouped_df['title'] = grouped_df['title'].astype(\"category\")\n",
    "grouped_df['personId'] = grouped_df['personId'].astype(\"category\")\n",
    "grouped_df['contentId'] = grouped_df['contentId'].astype(\"category\")\n",
    "grouped_df['person_id'] = grouped_df['personId'].cat.codes\n",
    "grouped_df['content_id'] = grouped_df['contentId'].cat.codes\n",
    "grouped_df.sample(10)"
   ]
  },
  {
   "cell_type": "code",
   "execution_count": null,
   "metadata": {},
   "outputs": [],
   "source": []
  },
  {
   "cell_type": "code",
   "execution_count": 15,
   "metadata": {},
   "outputs": [
    {
     "data": {
      "text/plain": [
       "personId         category\n",
       "contentId        category\n",
       "title            category\n",
       "eventStrength     float64\n",
       "person_id           int16\n",
       "content_id          int16\n",
       "dtype: object"
      ]
     },
     "execution_count": 15,
     "metadata": {},
     "output_type": "execute_result"
    }
   ],
   "source": [
    "grouped_df.dtypes"
   ]
  },
  {
   "cell_type": "markdown",
   "metadata": {},
   "source": [
    "这样我们就可以不再需要personId和contentId这两个字段了。"
   ]
  },
  {
   "attachments": {
    "image.png": {
     "image/png": "[encoded data removed]"
    }
   },
   "cell_type": "markdown",
   "metadata": {},
   "source": [
    "# 交替最小二乘法（Alternating Least Squares）\n",
    "\n",
    "在矩阵分解（matrix factorization）中使用的一种算法。有一个稀疏矩阵，假设这个矩阵是低阶的，可以分解成两个小矩阵相乘。然后交替对两个小矩阵使用最小二乘法，算出这两个小矩阵，就可以估算出稀疏矩阵缺失的值：\n",
    "\n",
    "![image.png](attachment:image.png)\n",
    "\n",
    "假设用户评分矩阵可以分解成两个矩阵相乘的形式,这两个矩阵相乘的结果就可以近似等于原来的矩阵，为了寻找出最优的两个矩阵以便它们相乘以后的结果与原来的矩阵误差最小，我们需要使用交替最小二乘法，算法在迭代的过程中交替固定两个矩阵中的一个矩阵然后使用最小二乘法求出另外一个矩阵的最优矩阵，最终使两个矩阵都是最优矩阵并且它们乘积的结果与原来的矩阵误差最小。\n",
    "\n",
    "\n",
    "在这里我们将使用implicit库中的als.AlternatingLeastSquares方法来实现交替最小二乘法。不过，这里我们首先要创建两个稀疏矩阵:内容-人-评分矩阵，人-内容-评分矩阵。\n"
   ]
  },
  {
   "cell_type": "code",
   "execution_count": 16,
   "metadata": {},
   "outputs": [
    {
     "name": "stdout",
     "output_type": "stream",
     "text": [
      "(2979, 1895)\n",
      "(1895, 2979)\n"
     ]
    }
   ],
   "source": [
    "sparse_content_person = sparse.csr_matrix((grouped_df['eventStrength'].astype(float), (grouped_df['content_id'], grouped_df['person_id'])))\n",
    "sparse_person_content = sparse.csr_matrix((grouped_df['eventStrength'].astype(float), (grouped_df['person_id'], grouped_df['content_id'])))\n",
    "\n",
    "print(sparse_content_person.shape)\n",
    "print(sparse_person_content.shape)"
   ]
  },
  {
   "cell_type": "markdown",
   "metadata": {},
   "source": [
    "我们看到文章总数为2979，用户总数为1895 \n",
    "\n",
    "内容-人-评分矩阵(sparse_content_person)的每一行代表一篇文章，每一列代表一个用户。\n",
    "\n",
    "人-内容-评分矩阵(sparse_person_content)的每一行代表一个用户，每一列代表一篇文章。\n",
    "\n",
    "下面我们开始训练模型，并设置20个特征因子。"
   ]
  },
  {
   "cell_type": "markdown",
   "metadata": {},
   "source": [
    "# 训练模型\n",
    "\n",
    "下面我们开始训练模型，并设置20个特征因子。"
   ]
  },
  {
   "cell_type": "code",
   "execution_count": 17,
   "metadata": {},
   "outputs": [
    {
     "name": "stderr",
     "output_type": "stream",
     "text": [
      "WARNING:root:Intel MKL BLAS detected. Its highly recommend to set the environment variable 'export MKL_NUM_THREADS=1' to disable its internal multithreading\n",
      "100%|████████████████████████████████████████| 50.0/50 [00:01<00:00, 32.34it/s]\n"
     ]
    }
   ],
   "source": [
    "alpha = 15\n",
    "data = (sparse_content_person * alpha).astype('double')\n",
    "\n",
    "model = implicit.als.AlternatingLeastSquares(factors=20, regularization=0.1, iterations=50)\n",
    "model.fit(data)"
   ]
  },
  {
   "cell_type": "markdown",
   "metadata": {},
   "source": [
    "# 推荐内容相似的文章\n",
    "\n",
    "模型训练完成以后，我们可以计算文章之间的相似度，并根据相似度来进行推荐:我们以content_id = 235的文章为例,这篇文章的标题是\"Artificial intelligence is hard to see\"，这是一篇有关人工智能的文章，我们的目标是在所有的文章的标题中找出和它最相似的10篇文章标题。这里我们主要通过计算文章之间的相似度，在计算相似度的过程中有以下几个步骤:\n",
    "\n",
    "从模型中获取人和内容的向量\n",
    "计算内容的向量的范数\n",
    "计算相似度得分\n",
    "获取相似度得分最大的10篇文章\n",
    "生成这10篇文章的content_id和title的元组"
   ]
  },
  {
   "cell_type": "code",
   "execution_count": 18,
   "metadata": {},
   "outputs": [
    {
     "name": "stdout",
     "output_type": "stream",
     "text": [
      "Artificial intelligence is hard to see\n"
     ]
    }
   ],
   "source": [
    "content_id = 235\n",
    "n_similar = 10\n",
    "print(grouped_df.title.loc[grouped_df.content_id == content_id][0])"
   ]
  },
  {
   "cell_type": "code",
   "execution_count": 19,
   "metadata": {},
   "outputs": [
    {
     "name": "stdout",
     "output_type": "stream",
     "text": [
      "(1895, 20)\n",
      "(2979, 20)\n"
     ]
    }
   ],
   "source": [
    "#获取用户矩阵\n",
    "person_vecs = model.user_factors\n",
    "#获取内容矩阵\n",
    "content_vecs = model.item_factors\n",
    "#计算内容的向量的范数\n",
    "content_norms = np.sqrt((content_vecs * content_vecs).sum(axis=1))\n",
    "#计算指定的content_id 与其他所有文章的相似度\n",
    "scores = content_vecs.dot(content_vecs[content_id]) / content_norms\n",
    "#获取相似度最大的10篇文章\n",
    "top_idx = np.argpartition(scores, -n_similar)[-n_similar:]\n",
    "#组成content_id和title的元组\n",
    "similar = sorted(zip(top_idx, scores[top_idx] / content_norms[content_id]), key=lambda x: -x[1])\n",
    "\n",
    "print(person_vecs.shape)\n",
    "print(content_vecs.shape)"
   ]
  },
  {
   "cell_type": "markdown",
   "metadata": {},
   "source": [
    "我们注意到我们的用户矩阵和我们的内容矩阵都只有20列，这是因为我们在定义模型时设置了factors=20。这里的用户矩阵和内容矩阵就类似与前面交替最小二乘法示意图中介绍的User Feature Matrix和Movie Feature Matrix.\n",
    "\n",
    "下面我们展示这10篇最相似的文章title:"
   ]
  },
  {
   "cell_type": "code",
   "execution_count": 20,
   "metadata": {},
   "outputs": [
    {
     "name": "stdout",
     "output_type": "stream",
     "text": [
      "Artificial intelligence is hard to see | 1.0000001\n",
      "Machine Learning Is No Longer Just for Experts | 0.75046736\n",
      "Clarifying the uses of artificial intelligence in the enterprise | 0.7082239\n",
      "Google Calendar for Android can now find meeting times that work for everyone | 0.6599234\n",
      "Money 20/20 Panel: Artificial Intelligence and Machine Learning | 0.65292907\n",
      "Leonardo Dicaprio, Barry Sternlicht back Qloo, a cultural recommendation engine | 0.6389775\n",
      "A trip to Google's New York City Pop-Up Shop | 0.62346613\n",
      "Stop Coding Machine Learning Algorithms From Scratch - Machine Learning Mastery | 0.6212184\n",
      "Larry Page's dream of building a 'Google Island' could be coming true | 0.6211126\n",
      "10 documentários para empreendedores | 0.617943\n"
     ]
    }
   ],
   "source": [
    "for content in similar:\n",
    "    idx, score = content\n",
    "    print(grouped_df.title.loc[grouped_df.content_id == idx].iloc[0],\"|\",score)"
   ]
  },
  {
   "cell_type": "markdown",
   "metadata": {},
   "source": [
    "这些文章似乎都和人工智能有关。其中第一篇文章就是content_id = 235的文章本身，正如我们前面说content_id = 235要和所有文章计算相似度，这当然也包含它自己本身，所以content_id = 235的文章和自己的相似度应该是最大的，因此应该排第一位，其余9篇文章标题则是按照相似度由高到低排列的。"
   ]
  },
  {
   "cell_type": "markdown",
   "metadata": {},
   "source": [
    "# 为用户推荐他可能感兴趣的文章\n",
    "\n",
    "接下来我们要为用户推荐他们没有看过的(即没有发生过交互行为),但是他们可能会敢兴趣的文章。我们首先要定义一个推荐函数，在推荐函数中我们主要要做以下3件事:\n",
    "\n",
    "* 将指定用户的用户向量乘以内容矩阵，得到该用户对所有文章的评分向量\n",
    "* 从评分向量中过滤掉用户已经评分过的文章(将其评分值置为0),因为用户已经发生过交互行为的文章不应该被推荐\n",
    "* 将余下的评分分数排序，并输出分数最大的10篇文章。"
   ]
  },
  {
   "cell_type": "code",
   "execution_count": 21,
   "metadata": {},
   "outputs": [],
   "source": [
    "def recommend(person_id, sparse_person_content, person_vecs, content_vecs, num_contents=10):\n",
    "    #*****************得到指定用户对所有文章的评分向量******************************\n",
    "    # 将该用户向量乘以内容矩阵(做点积),得到该用户对所有文章的评价分数向量\n",
    "    rec_vector = person_vecs[person_id,:].dot(content_vecs.T).toarray()\n",
    "    \n",
    "    #**********过滤掉用户已经评分过的文章(将其评分值置为0),因为用户已经发生过交互行为的文章不应该被推荐*******\n",
    "    # 从稀疏矩阵sparse_person_content中获取指定用户对所有文章的评价分数\n",
    "    person_interactions = sparse_person_content[person_id,:].toarray()\n",
    "    # 为该用户的对所有文章的评价分数+1，那些没有被该用户看过(view)的文章的分数就会等于1(原来是0)\n",
    "    person_interactions = person_interactions.reshape(-1) + 1\n",
    "    # 将那些已经被该用户看过的文章的分数置为0\n",
    "    person_interactions[person_interactions > 1] = 0        \n",
    "    # 将该用户的评分向量做标准化处理,将其值缩放到0到1之间。\n",
    "    min_max = MinMaxScaler()\n",
    "    rec_vector_scaled = min_max.fit_transform(rec_vector.reshape(-1,1))[:,0]\n",
    "    # 过滤掉和该用户已经交互过的文章，这些文章的评分会和0相乘。\n",
    "    recommend_vector = person_interactions * rec_vector_scaled\n",
    "    \n",
    "    #*************将余下的评分分数排序，并输出分数最大的10篇文章************************\n",
    "    # 根据评分值进行排序,并获取指定数量的评分值最高的文章\n",
    "    content_idx = np.argsort(recommend_vector)[::-1][:num_contents]\n",
    "    \n",
    "    # 定义两个list用于存储文章的title和推荐分数。\n",
    "    titles = []\n",
    "    scores = []\n",
    "\n",
    "    for idx in content_idx:\n",
    "        # 将title和分数添加到list中\n",
    "        titles.append(grouped_df.title.loc[grouped_df.content_id == idx].iloc[0])\n",
    "        scores.append(recommend_vector[idx])\n",
    "\n",
    "    recommendations = pd.DataFrame({'title': titles, 'score': scores})\n",
    "\n",
    "    return recommendations"
   ]
  },
  {
   "cell_type": "markdown",
   "metadata": {},
   "source": [
    "在上面的函数中，我们首先从稀疏矩阵sparse_person_content中获取指定用户对所有文章的评分，这里需要注意一点的是，如果某个用户对某篇文章没有发生过交互行为(VIEW,LIKE,BOOKMARK,COMMENT CREATED,FOLLOW),那么在原始的数据集中是不存在这条交互记录的，但是当我们使用了稀疏矩阵的.toarray()方法后，那些用户没有发生过交互的所有文章都会被展示出来，只不过对那些文章的评分值都会被置为0，因此toarray()方法展现的是所有用户对所有文章的评分结果。\n",
    "\n",
    "下面我们要为特定的用户推荐他们没有看过的，但可能会感兴趣的10篇文章："
   ]
  },
  {
   "cell_type": "code",
   "execution_count": 22,
   "metadata": {},
   "outputs": [
    {
     "name": "stdout",
     "output_type": "stream",
     "text": [
      "                                               title     score\n",
      "0  Custo do Erro - Cinco motivos para investir em...  1.000000\n",
      "1  Ray Kurzweil: The world isn't getting worse - ...  0.859316\n",
      "2  How I built an app with 500,000 users in 5 day...  0.827874\n",
      "3           Drupal and ambitious digital experiences  0.815111\n",
      "4  Do You Suffer From Deployment Anxiety? - DZone...  0.812248\n",
      "5  Former Google career coach shares a visual tri...  0.788370\n",
      "6  'The Simpsons' celebrates 600 episodes with a ...  0.781911\n",
      "7  GitLab launches Issue Boards, an open-source t...  0.768058\n",
      "8                            15 minutos sobre Docker  0.757384\n",
      "9  BDD Best Practices and Guidelines - Testing Ex...  0.753251\n"
     ]
    }
   ],
   "source": [
    "# 从model中获取经过训练的用户和内容矩阵,并将它们存储为稀疏矩阵\n",
    "person_vecs = sparse.csr_matrix(model.user_factors)\n",
    "content_vecs = sparse.csr_matrix(model.item_factors)\n",
    "\n",
    "# 为指定用户推荐文章。\n",
    "person_id = 50\n",
    "recommendations = recommend(person_id, sparse_person_content, person_vecs, content_vecs)\n",
    "print(recommendations)"
   ]
  },
  {
   "cell_type": "code",
   "execution_count": 23,
   "metadata": {},
   "outputs": [
    {
     "data": {
      "text/html": [
       "<div>\n",
       "<style scoped>\n",
       "    .dataframe tbody tr th:only-of-type {\n",
       "        vertical-align: middle;\n",
       "    }\n",
       "\n",
       "    .dataframe tbody tr th {\n",
       "        vertical-align: top;\n",
       "    }\n",
       "\n",
       "    .dataframe thead th {\n",
       "        text-align: right;\n",
       "    }\n",
       "</style>\n",
       "<table border=\"1\" class=\"dataframe\">\n",
       "  <thead>\n",
       "    <tr style=\"text-align: right;\">\n",
       "      <th></th>\n",
       "      <th>title</th>\n",
       "      <th>person_id</th>\n",
       "      <th>eventStrength</th>\n",
       "    </tr>\n",
       "  </thead>\n",
       "  <tbody>\n",
       "    <tr>\n",
       "      <th>1727</th>\n",
       "      <td>Acquia Engage 2016: Day One</td>\n",
       "      <td>50</td>\n",
       "      <td>3.0</td>\n",
       "    </tr>\n",
       "    <tr>\n",
       "      <th>1791</th>\n",
       "      <td>Um bilhão de arquivos mostram quem vence a dis...</td>\n",
       "      <td>50</td>\n",
       "      <td>3.0</td>\n",
       "    </tr>\n",
       "    <tr>\n",
       "      <th>1781</th>\n",
       "      <td>Acquia Engage Awards Finalists Announced</td>\n",
       "      <td>50</td>\n",
       "      <td>3.0</td>\n",
       "    </tr>\n",
       "    <tr>\n",
       "      <th>1778</th>\n",
       "      <td>Sharing innovation with your competitors - Dri...</td>\n",
       "      <td>50</td>\n",
       "      <td>3.0</td>\n",
       "    </tr>\n",
       "    <tr>\n",
       "      <th>1769</th>\n",
       "      <td>Don't document your code. Code your documentat...</td>\n",
       "      <td>50</td>\n",
       "      <td>3.0</td>\n",
       "    </tr>\n",
       "    <tr>\n",
       "      <th>1747</th>\n",
       "      <td>Who sponsors Drupal development? | Dries Buytaert</td>\n",
       "      <td>50</td>\n",
       "      <td>3.0</td>\n",
       "    </tr>\n",
       "    <tr>\n",
       "      <th>1768</th>\n",
       "      <td>Johnson &amp; Johnson comprará grupo suíço por US$...</td>\n",
       "      <td>50</td>\n",
       "      <td>1.0</td>\n",
       "    </tr>\n",
       "    <tr>\n",
       "      <th>1767</th>\n",
       "      <td>Slack and Google announce partnership focused ...</td>\n",
       "      <td>50</td>\n",
       "      <td>1.0</td>\n",
       "    </tr>\n",
       "    <tr>\n",
       "      <th>1770</th>\n",
       "      <td>Rating the English Proficiency of Countries an...</td>\n",
       "      <td>50</td>\n",
       "      <td>1.0</td>\n",
       "    </tr>\n",
       "    <tr>\n",
       "      <th>1766</th>\n",
       "      <td>Infográfico: Algoritmos para Aprendizado de Má...</td>\n",
       "      <td>50</td>\n",
       "      <td>1.0</td>\n",
       "    </tr>\n",
       "  </tbody>\n",
       "</table>\n",
       "</div>"
      ],
      "text/plain": [
       "                                                  title  person_id  \\\n",
       "1727                        Acquia Engage 2016: Day One         50   \n",
       "1791  Um bilhão de arquivos mostram quem vence a dis...         50   \n",
       "1781           Acquia Engage Awards Finalists Announced         50   \n",
       "1778  Sharing innovation with your competitors - Dri...         50   \n",
       "1769  Don't document your code. Code your documentat...         50   \n",
       "1747  Who sponsors Drupal development? | Dries Buytaert         50   \n",
       "1768  Johnson & Johnson comprará grupo suíço por US$...         50   \n",
       "1767  Slack and Google announce partnership focused ...         50   \n",
       "1770  Rating the English Proficiency of Countries an...         50   \n",
       "1766  Infográfico: Algoritmos para Aprendizado de Má...         50   \n",
       "\n",
       "      eventStrength  \n",
       "1727            3.0  \n",
       "1791            3.0  \n",
       "1781            3.0  \n",
       "1778            3.0  \n",
       "1769            3.0  \n",
       "1747            3.0  \n",
       "1768            1.0  \n",
       "1767            1.0  \n",
       "1770            1.0  \n",
       "1766            1.0  "
      ]
     },
     "execution_count": 23,
     "metadata": {},
     "output_type": "execute_result"
    }
   ],
   "source": [
    "grouped_df.loc[grouped_df['person_id'] == 50].sort_values(by=['eventStrength'], \n",
    "                                                          ascending=False)[['title', 'person_id', 'eventStrength']].head(10)"
   ]
  },
  {
   "cell_type": "code",
   "execution_count": 24,
   "metadata": {},
   "outputs": [
    {
     "name": "stdout",
     "output_type": "stream",
     "text": [
      "                                               title     score\n",
      "0  Novo workaholic trabalha, pratica esportes e t...  0.814111\n",
      "1                   Livro: Retrospectivas Divertidas  0.808701\n",
      "2  'The Simpsons' celebrates 600 episodes with a ...  0.765099\n",
      "3               Why Programmers Want Private Offices  0.682038\n",
      "4           Drupal and ambitious digital experiences  0.663015\n",
      "5          Speeding up ReSharper (and Visual Studio)  0.656806\n",
      "6                    40 Basic Japanese conversations  0.650549\n",
      "7  How to Improve 8 Major Problem Areas for Japan...  0.641954\n",
      "8                               Japanese for dummies  0.627957\n",
      "9  Ganhe 6 meses de acesso ao Pluralsight, maior ...  0.605869\n"
     ]
    }
   ],
   "source": [
    "person_id = 2\n",
    "recommendations = recommend(person_id, sparse_person_content, person_vecs, content_vecs)\n",
    "print(recommendations)"
   ]
  },
  {
   "cell_type": "code",
   "execution_count": 25,
   "metadata": {},
   "outputs": [
    {
     "data": {
      "text/html": [
       "<div>\n",
       "<style scoped>\n",
       "    .dataframe tbody tr th:only-of-type {\n",
       "        vertical-align: middle;\n",
       "    }\n",
       "\n",
       "    .dataframe tbody tr th {\n",
       "        vertical-align: top;\n",
       "    }\n",
       "\n",
       "    .dataframe thead th {\n",
       "        text-align: right;\n",
       "    }\n",
       "</style>\n",
       "<table border=\"1\" class=\"dataframe\">\n",
       "  <thead>\n",
       "    <tr style=\"text-align: right;\">\n",
       "      <th></th>\n",
       "      <th>title</th>\n",
       "      <th>eventStrength</th>\n",
       "      <th>person_id</th>\n",
       "    </tr>\n",
       "  </thead>\n",
       "  <tbody>\n",
       "    <tr>\n",
       "      <th>51</th>\n",
       "      <td>Former Google career coach shares a visual tri...</td>\n",
       "      <td>6.0</td>\n",
       "      <td>2</td>\n",
       "    </tr>\n",
       "    <tr>\n",
       "      <th>48</th>\n",
       "      <td>Request lesson : How and when to use はず(=hazu)...</td>\n",
       "      <td>3.0</td>\n",
       "      <td>2</td>\n",
       "    </tr>\n",
       "    <tr>\n",
       "      <th>49</th>\n",
       "      <td>Aposta na inovação</td>\n",
       "      <td>3.0</td>\n",
       "      <td>2</td>\n",
       "    </tr>\n",
       "    <tr>\n",
       "      <th>50</th>\n",
       "      <td>The Algorithm March, Japan's Strangely Enterta...</td>\n",
       "      <td>3.0</td>\n",
       "      <td>2</td>\n",
       "    </tr>\n",
       "    <tr>\n",
       "      <th>54</th>\n",
       "      <td>Como são escrita as risadas em japonês? - Suki...</td>\n",
       "      <td>3.0</td>\n",
       "      <td>2</td>\n",
       "    </tr>\n",
       "    <tr>\n",
       "      <th>52</th>\n",
       "      <td>A minha viagem à Maternidade #tetodomundo</td>\n",
       "      <td>1.0</td>\n",
       "      <td>2</td>\n",
       "    </tr>\n",
       "    <tr>\n",
       "      <th>53</th>\n",
       "      <td>Learn Hiragana: The Ultimate Guide</td>\n",
       "      <td>1.0</td>\n",
       "      <td>2</td>\n",
       "    </tr>\n",
       "  </tbody>\n",
       "</table>\n",
       "</div>"
      ],
      "text/plain": [
       "                                                title  eventStrength  \\\n",
       "51  Former Google career coach shares a visual tri...            6.0   \n",
       "48  Request lesson : How and when to use はず(=hazu)...            3.0   \n",
       "49                                 Aposta na inovação            3.0   \n",
       "50  The Algorithm March, Japan's Strangely Enterta...            3.0   \n",
       "54  Como são escrita as risadas em japonês? - Suki...            3.0   \n",
       "52          A minha viagem à Maternidade #tetodomundo            1.0   \n",
       "53                 Learn Hiragana: The Ultimate Guide            1.0   \n",
       "\n",
       "    person_id  \n",
       "51          2  \n",
       "48          2  \n",
       "49          2  \n",
       "50          2  \n",
       "54          2  \n",
       "52          2  \n",
       "53          2  "
      ]
     },
     "execution_count": 25,
     "metadata": {},
     "output_type": "execute_result"
    }
   ],
   "source": [
    "grouped_df.loc[grouped_df['person_id'] == 2].sort_values(by=['eventStrength'], \n",
    "                                                         ascending=False)[['title', 'eventStrength', 'person_id']]"
   ]
  },
  {
   "cell_type": "code",
   "execution_count": 26,
   "metadata": {},
   "outputs": [
    {
     "name": "stdout",
     "output_type": "stream",
     "text": [
      "                                               title     score\n",
      "0  Como são escrita as risadas em japonês? - Suki...  0.849396\n",
      "1  Former Google career coach shares a visual tri...  0.848883\n",
      "2  Ganhe 6 meses de acesso ao Pluralsight, maior ...  0.784309\n",
      "3          Speeding up ReSharper (and Visual Studio)  0.784002\n",
      "4             The Continuous Delivery Maturity Model  0.764710\n",
      "5  'The Simpsons' celebrates 600 episodes with a ...  0.735431\n",
      "6  Node.js Examples - How Enterprises use Node in...  0.724938\n",
      "7  Request lesson : How and when to use はず(=hazu)...  0.715854\n",
      "8  Desenvolvimento Efetivo na Plataforma Microsof...  0.696465\n",
      "9                               Jenkins 2.0 is here!  0.685920\n"
     ]
    }
   ],
   "source": [
    "person_id = 1\n",
    "recommendations = recommend(person_id, sparse_person_content, person_vecs, content_vecs)\n",
    "print(recommendations)"
   ]
  },
  {
   "cell_type": "code",
   "execution_count": 27,
   "metadata": {},
   "outputs": [
    {
     "data": {
      "text/html": [
       "<div>\n",
       "<style scoped>\n",
       "    .dataframe tbody tr th:only-of-type {\n",
       "        vertical-align: middle;\n",
       "    }\n",
       "\n",
       "    .dataframe tbody tr th {\n",
       "        vertical-align: top;\n",
       "    }\n",
       "\n",
       "    .dataframe thead th {\n",
       "        text-align: right;\n",
       "    }\n",
       "</style>\n",
       "<table border=\"1\" class=\"dataframe\">\n",
       "  <thead>\n",
       "    <tr style=\"text-align: right;\">\n",
       "      <th></th>\n",
       "      <th>title</th>\n",
       "      <th>eventStrength</th>\n",
       "      <th>person_id</th>\n",
       "    </tr>\n",
       "  </thead>\n",
       "  <tbody>\n",
       "    <tr>\n",
       "      <th>44</th>\n",
       "      <td>Learn Hiragana: The Ultimate Guide</td>\n",
       "      <td>3.0</td>\n",
       "      <td>1</td>\n",
       "    </tr>\n",
       "    <tr>\n",
       "      <th>43</th>\n",
       "      <td>Firebase Test Lab for Android</td>\n",
       "      <td>1.0</td>\n",
       "      <td>1</td>\n",
       "    </tr>\n",
       "    <tr>\n",
       "      <th>45</th>\n",
       "      <td>Fresco, sim! - Android Dev BR</td>\n",
       "      <td>1.0</td>\n",
       "      <td>1</td>\n",
       "    </tr>\n",
       "    <tr>\n",
       "      <th>46</th>\n",
       "      <td>Japanese for dummies</td>\n",
       "      <td>1.0</td>\n",
       "      <td>1</td>\n",
       "    </tr>\n",
       "    <tr>\n",
       "      <th>47</th>\n",
       "      <td>Firebase and Google Cloud: better together</td>\n",
       "      <td>1.0</td>\n",
       "      <td>1</td>\n",
       "    </tr>\n",
       "  </tbody>\n",
       "</table>\n",
       "</div>"
      ],
      "text/plain": [
       "                                         title  eventStrength  person_id\n",
       "44          Learn Hiragana: The Ultimate Guide            3.0          1\n",
       "43               Firebase Test Lab for Android            1.0          1\n",
       "45               Fresco, sim! - Android Dev BR            1.0          1\n",
       "46                        Japanese for dummies            1.0          1\n",
       "47  Firebase and Google Cloud: better together            1.0          1"
      ]
     },
     "execution_count": 27,
     "metadata": {},
     "output_type": "execute_result"
    }
   ],
   "source": [
    "grouped_df.loc[grouped_df['person_id'] == 1].sort_values(by=['eventStrength'], \n",
    "                                                         ascending=False)[['title', 'eventStrength', 'person_id']]"
   ]
  },
  {
   "cell_type": "markdown",
   "metadata": {},
   "source": [
    "# 推荐系统的评估 \n",
    "\n",
    "在实际应用中要检验推荐系统的表现，最重要的还是要看推荐系统是否为企业带来了更多的利润，或者是否为网站带来了更多的流量等商业价值。\n",
    "\n",
    "在这里我们只能通过理论的方式来检验推荐系统的有效性，大家可以参考这篇文章，也可以参考我之前写的一篇关于评估推荐系统表现的博客，还有这篇关于ROC和AUC的博客。\n",
    "\n",
    "大体上来说评估推荐系统的表现主要是通过计算推荐结果的“命中率”来考察推荐算法表现，主要思想是这样的，我们从现有的评分矩阵中分离出少部分评分数据(如20%左右),将剩余的80%的推荐数据用来训练推荐算法模型，然后让推荐模型对用户未评分过的文章进行推荐，在推荐结果中我们考察其中是否包含了之前被分离出来的那20%的文章，同时我们计算“命中率”或AUC作为评价指标。\n",
    "\n",
    "现在我们要做的是从评分数据中创建训练集和测试集，在测试集中我们删除了20%的有过交互行为的评分数据，在测试集中我们将所有的有过交互行为评分置为1，这样就测试集变成了一个二分类数据的集合。"
   ]
  },
  {
   "cell_type": "code",
   "execution_count": 28,
   "metadata": {},
   "outputs": [],
   "source": [
    "import random\n",
    "\n",
    "def make_train(ratings, pct_test = 0.2):\n",
    "    test_set = ratings.copy() # 拷贝一份评分数据当作测试集\n",
    "    test_set[test_set != 0] = 1 # 将有评分数据置为1，我们要模拟成二分类数据集\n",
    "    \n",
    "    training_set = ratings.copy() # 拷贝一份评分数据当作训练集 \n",
    "    \n",
    "    nonzero_inds = training_set.nonzero() # 找到有过评分(有交互行为，评分数不为0)的数据的索引。\n",
    "    nonzero_pairs = list(zip(nonzero_inds[0], nonzero_inds[1])) # 将它们组成元组并存放在list中\n",
    "\n",
    "    \n",
    "    random.seed(0) #设置随机数种子\n",
    "    \n",
    "    num_samples = int(np.ceil(pct_test*len(nonzero_pairs))) # 获取20%的非0评价的数量\n",
    "    samples = random.sample(nonzero_pairs, num_samples) # 随机从非零评价的索引对中抽样20%\n",
    "\n",
    "    content_inds = [index[0] for index in samples] # 从样本中得到文章列(第一列)索引值\n",
    "\n",
    "    person_inds = [index[1] for index in samples] # 从样本中得到文章列(第二列)索引值\n",
    "\n",
    "    \n",
    "    training_set[content_inds, person_inds] = 0 # 在训练集中将这20%的随机样本的评分值置为0\n",
    "    training_set.eliminate_zeros() # 在测试集中删除这0元素\n",
    "    \n",
    "    return training_set, test_set, list(set(person_inds))"
   ]
  },
  {
   "cell_type": "code",
   "execution_count": 29,
   "metadata": {},
   "outputs": [],
   "source": [
    "content_train, content_test, content_persons_altered = make_train(sparse_content_person, pct_test = 0.2)"
   ]
  },
  {
   "cell_type": "code",
   "execution_count": 30,
   "metadata": {},
   "outputs": [],
   "source": [
    "#计算AUC分数\n",
    "def auc_score(predictions, actual):\n",
    "    fpr, tpr, thresholds = metrics.roc_curve(actual, predictions)\n",
    "    return metrics.auc(fpr, tpr)"
   ]
  },
  {
   "cell_type": "code",
   "execution_count": 31,
   "metadata": {},
   "outputs": [],
   "source": [
    "#计算评价AUC分数\n",
    "def calc_mean_auc(training_set, altered_persons, predictions, test_set):\n",
    "    store_auc = [] # 用来存储那些在训练集中被删除评分的用户的AUC\n",
    "    popularity_auc = [] # 用来存储最受欢迎的文章的AUC\n",
    "    pop_contents = np.array(test_set.sum(axis = 1)).reshape(-1) # 在测试集中按列合计所有评价分数，以便找出最受欢迎的文章。\n",
    "    content_vecs = predictions[1]\n",
    "    for person in altered_persons: # 迭代那些在训练集中被删除评分的那20%的用户\n",
    "        training_column = training_set[:,person].toarray().reshape(-1) # 在训练集中找到对应用户的那一列\n",
    "        zero_inds = np.where(training_column == 0) # 找出所有没有发生过交互行为的评分的索引,这其中也包括被删除评分的索引\n",
    "        \n",
    "        # 对用户没有交互过的文章预测用户对它们的评分\n",
    "        person_vec = predictions[0][person,:]\n",
    "        pred = person_vec.dot(content_vecs).toarray()[0,zero_inds].reshape(-1)\n",
    "        \n",
    "        #获取预测的评分，预测评分包含用户交互过的文章的评分(原评分为0)和那20%被强制置为0的实际评分\n",
    "        actual = test_set[:,person].toarray()[zero_inds,0].reshape(-1)\n",
    "        \n",
    "        #从所有文章评价总和中过滤出过滤出那么没有评价过的文章的合计总分(每篇文章各自的合计总分)\n",
    "        pop = pop_contents[zero_inds] \n",
    "        \n",
    "        store_auc.append(auc_score(pred, actual)) # 计算当前用户的预测和实际评分的AUC\n",
    "        \n",
    "        popularity_auc.append(auc_score(pop, actual)) # 计算合计总分和实际评分的AUC\n",
    "    \n",
    "    return float('%.3f'%np.mean(store_auc)), float('%.3f'%np.mean(popularity_auc))"
   ]
  },
  {
   "cell_type": "code",
   "execution_count": 32,
   "metadata": {},
   "outputs": [
    {
     "data": {
      "text/plain": [
       "(0.98, 0.819)"
      ]
     },
     "execution_count": 32,
     "metadata": {},
     "output_type": "execute_result"
    }
   ],
   "source": [
    "calc_mean_auc(content_train, content_persons_altered,\n",
    "              [person_vecs, content_vecs.T], content_test)"
   ]
  },
  {
   "cell_type": "code",
   "execution_count": null,
   "metadata": {},
   "outputs": [],
   "source": []
  },
  {
   "cell_type": "code",
   "execution_count": null,
   "metadata": {},
   "outputs": [],
   "source": []
  },
  {
   "cell_type": "code",
   "execution_count": null,
   "metadata": {},
   "outputs": [],
   "source": []
  },
  {
   "cell_type": "code",
   "execution_count": null,
   "metadata": {},
   "outputs": [],
   "source": []
  },
  {
   "cell_type": "code",
   "execution_count": null,
   "metadata": {},
   "outputs": [],
   "source": []
  },
  {
   "cell_type": "code",
   "execution_count": null,
   "metadata": {},
   "outputs": [],
   "source": []
  },
  {
   "cell_type": "code",
   "execution_count": null,
   "metadata": {},
   "outputs": [],
   "source": []
  }
 ],
 "metadata": {
  "kernelspec": {
   "display_name": "Python 3",
   "language": "python",
   "name": "python3"
  },
  "language_info": {
   "codemirror_mode": {
    "name": "ipython",
    "version": 3
   },
   "file_extension": ".py",
   "mimetype": "text/x-python",
   "name": "python",
   "nbconvert_exporter": "python",
   "pygments_lexer": "ipython3",
   "version": "3.7.1"
  }
 },
 "nbformat": 4,
 "nbformat_minor": 2
}
