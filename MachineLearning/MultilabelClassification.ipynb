{
 "cells": [
  {
   "cell_type": "code",
   "execution_count": 1,
   "metadata": {},
   "outputs": [
    {
     "name": "stdout",
     "output_type": "stream",
     "text": [
      "[nltk_data] Downloading package stopwords to /root/nltk_data...\n",
      "[nltk_data]   Package stopwords is already up-to-date!\n"
     ]
    }
   ],
   "source": [
    "%matplotlib inline\n",
    "from ast import literal_eval\n",
    "import pandas as pd\n",
    "import numpy as np\n",
    "import matplotlib\n",
    "import matplotlib.pyplot as plt\n",
    "import seaborn as sns\n",
    "from scipy import sparse as sp_sparse\n",
    "from sklearn.feature_extraction.text import TfidfVectorizer\n",
    "from sklearn.preprocessing import MultiLabelBinarizer\n",
    "from sklearn.naive_bayes import MultinomialNB\n",
    "from sklearn.multiclass import OneVsRestClassifier\n",
    "from sklearn.linear_model import LogisticRegression, RidgeClassifier\n",
    "from sklearn.svm import LinearSVC\n",
    "from sklearn.pipeline import Pipeline\n",
    "from sklearn.feature_extraction.text import CountVectorizer\n",
    "import nltk\n",
    "import re\n",
    "from nltk.corpus import stopwords\n",
    "nltk.download('stopwords')\n",
    "stop_words = set(stopwords.words('english'))"
   ]
  },
  {
   "cell_type": "code",
   "execution_count": 2,
   "metadata": {},
   "outputs": [
    {
     "name": "stdout",
     "output_type": "stream",
     "text": [
      "100000\n",
      "30000\n"
     ]
    },
    {
     "data": {
      "text/html": [
       "<div>\n",
       "<style scoped>\n",
       "    .dataframe tbody tr th:only-of-type {\n",
       "        vertical-align: middle;\n",
       "    }\n",
       "\n",
       "    .dataframe tbody tr th {\n",
       "        vertical-align: top;\n",
       "    }\n",
       "\n",
       "    .dataframe thead th {\n",
       "        text-align: right;\n",
       "    }\n",
       "</style>\n",
       "<table border=\"1\" class=\"dataframe\">\n",
       "  <thead>\n",
       "    <tr style=\"text-align: right;\">\n",
       "      <th></th>\n",
       "      <th>title</th>\n",
       "      <th>tags</th>\n",
       "    </tr>\n",
       "  </thead>\n",
       "  <tbody>\n",
       "    <tr>\n",
       "      <th>48222</th>\n",
       "      <td>how to dynamically get the image from the wind...</td>\n",
       "      <td>[c#, sql-server, winforms, image]</td>\n",
       "    </tr>\n",
       "    <tr>\n",
       "      <th>8119</th>\n",
       "      <td>numpy ndarrays: row-wise and column-wise opera...</td>\n",
       "      <td>[python, arrays, numpy]</td>\n",
       "    </tr>\n",
       "    <tr>\n",
       "      <th>10857</th>\n",
       "      <td>Create a tilt-shift filter like instagram in o...</td>\n",
       "      <td>[objective-c, ios]</td>\n",
       "    </tr>\n",
       "    <tr>\n",
       "      <th>44403</th>\n",
       "      <td>How to simulate the Out Of memory : Requested ...</td>\n",
       "      <td>[java]</td>\n",
       "    </tr>\n",
       "    <tr>\n",
       "      <th>66683</th>\n",
       "      <td>PHP: URL friendly strings</td>\n",
       "      <td>[php, string]</td>\n",
       "    </tr>\n",
       "    <tr>\n",
       "      <th>88655</th>\n",
       "      <td>Why are extension methods only allowed in non-...</td>\n",
       "      <td>[c#]</td>\n",
       "    </tr>\n",
       "    <tr>\n",
       "      <th>41863</th>\n",
       "      <td>Can't reference controls in code behind. Visua...</td>\n",
       "      <td>[asp.net, vb.net]</td>\n",
       "    </tr>\n",
       "    <tr>\n",
       "      <th>57150</th>\n",
       "      <td>SQL and Java return different dates?</td>\n",
       "      <td>[java, sql, sql-server, date]</td>\n",
       "    </tr>\n",
       "    <tr>\n",
       "      <th>64002</th>\n",
       "      <td>How can I determine how much memory my program...</td>\n",
       "      <td>[c#, .net]</td>\n",
       "    </tr>\n",
       "    <tr>\n",
       "      <th>69521</th>\n",
       "      <td>Android: Pause/Resume Timer OR Thread</td>\n",
       "      <td>[java, android, multithreading]</td>\n",
       "    </tr>\n",
       "  </tbody>\n",
       "</table>\n",
       "</div>"
      ],
      "text/plain": [
       "                                                   title  \\\n",
       "48222  how to dynamically get the image from the wind...   \n",
       "8119   numpy ndarrays: row-wise and column-wise opera...   \n",
       "10857  Create a tilt-shift filter like instagram in o...   \n",
       "44403  How to simulate the Out Of memory : Requested ...   \n",
       "66683                          PHP: URL friendly strings   \n",
       "88655  Why are extension methods only allowed in non-...   \n",
       "41863  Can't reference controls in code behind. Visua...   \n",
       "57150               SQL and Java return different dates?   \n",
       "64002  How can I determine how much memory my program...   \n",
       "69521              Android: Pause/Resume Timer OR Thread   \n",
       "\n",
       "                                    tags  \n",
       "48222  [c#, sql-server, winforms, image]  \n",
       "8119             [python, arrays, numpy]  \n",
       "10857                 [objective-c, ios]  \n",
       "44403                             [java]  \n",
       "66683                      [php, string]  \n",
       "88655                               [c#]  \n",
       "41863                  [asp.net, vb.net]  \n",
       "57150      [java, sql, sql-server, date]  \n",
       "64002                         [c#, .net]  \n",
       "69521    [java, android, multithreading]  "
      ]
     },
     "execution_count": 2,
     "metadata": {},
     "output_type": "execute_result"
    }
   ],
   "source": [
    "def read_data(filename):\n",
    "    data = pd.read_csv(filename, sep='\\t')\n",
    "    data['tags'] = data['tags'].apply(literal_eval)\n",
    "    return data\n",
    "\n",
    "train = read_data('./data/Multil_label_data/train.tsv')\n",
    "validation = read_data('./data/Multil_label_data/validation.tsv')\n",
    "\n",
    "print(len(train))\n",
    "print(len(validation))\n",
    "train.sample(10)"
   ]
  },
  {
   "cell_type": "code",
   "execution_count": 7,
   "metadata": {},
   "outputs": [],
   "source": []
  },
  {
   "cell_type": "code",
   "execution_count": null,
   "metadata": {},
   "outputs": [],
   "source": []
  },
  {
   "cell_type": "code",
   "execution_count": 3,
   "metadata": {},
   "outputs": [
    {
     "name": "stdout",
     "output_type": "stream",
     "text": [
      "标签总数: 100\n"
     ]
    },
    {
     "data": {
      "text/html": [
       "<div>\n",
       "<style scoped>\n",
       "    .dataframe tbody tr th:only-of-type {\n",
       "        vertical-align: middle;\n",
       "    }\n",
       "\n",
       "    .dataframe tbody tr th {\n",
       "        vertical-align: top;\n",
       "    }\n",
       "\n",
       "    .dataframe thead th {\n",
       "        text-align: right;\n",
       "    }\n",
       "</style>\n",
       "<table border=\"1\" class=\"dataframe\">\n",
       "  <thead>\n",
       "    <tr style=\"text-align: right;\">\n",
       "      <th></th>\n",
       "      <th>tag</th>\n",
       "      <th>count</th>\n",
       "    </tr>\n",
       "  </thead>\n",
       "  <tbody>\n",
       "    <tr>\n",
       "      <th>19</th>\n",
       "      <td>javascript</td>\n",
       "      <td>19078</td>\n",
       "    </tr>\n",
       "    <tr>\n",
       "      <th>91</th>\n",
       "      <td>c#</td>\n",
       "      <td>19077</td>\n",
       "    </tr>\n",
       "    <tr>\n",
       "      <th>95</th>\n",
       "      <td>java</td>\n",
       "      <td>18661</td>\n",
       "    </tr>\n",
       "    <tr>\n",
       "      <th>84</th>\n",
       "      <td>php</td>\n",
       "      <td>13907</td>\n",
       "    </tr>\n",
       "    <tr>\n",
       "      <th>85</th>\n",
       "      <td>python</td>\n",
       "      <td>8940</td>\n",
       "    </tr>\n",
       "    <tr>\n",
       "      <th>53</th>\n",
       "      <td>jquery</td>\n",
       "      <td>7510</td>\n",
       "    </tr>\n",
       "    <tr>\n",
       "      <th>81</th>\n",
       "      <td>c++</td>\n",
       "      <td>6469</td>\n",
       "    </tr>\n",
       "    <tr>\n",
       "      <th>67</th>\n",
       "      <td>html</td>\n",
       "      <td>4668</td>\n",
       "    </tr>\n",
       "    <tr>\n",
       "      <th>68</th>\n",
       "      <td>objective-c</td>\n",
       "      <td>4338</td>\n",
       "    </tr>\n",
       "    <tr>\n",
       "      <th>47</th>\n",
       "      <td>asp.net</td>\n",
       "      <td>3939</td>\n",
       "    </tr>\n",
       "  </tbody>\n",
       "</table>\n",
       "</div>"
      ],
      "text/plain": [
       "            tag  count\n",
       "19   javascript  19078\n",
       "91           c#  19077\n",
       "95         java  18661\n",
       "84          php  13907\n",
       "85       python   8940\n",
       "53       jquery   7510\n",
       "81          c++   6469\n",
       "67         html   4668\n",
       "68  objective-c   4338\n",
       "47      asp.net   3939"
      ]
     },
     "execution_count": 3,
     "metadata": {},
     "output_type": "execute_result"
    }
   ],
   "source": [
    "tags = train['tags'].values\n",
    "tag_dic={}\n",
    "for tag_list in tags:\n",
    "    for tag in tag_list:        \n",
    "        if tag not in tag_dic:\n",
    "            tag_dic[tag]=1\n",
    "        else:\n",
    "             tag_dic[tag]+=1\n",
    "df = pd.DataFrame(list(tag_dic.items()), columns=['tag', 'count']).sort_values(by = 'count',axis = 0,ascending = False)\n",
    "print('标签总数:',len(df))\n",
    "df.head(10)"
   ]
  },
  {
   "cell_type": "code",
   "execution_count": 4,
   "metadata": {},
   "outputs": [
    {
     "data": {
      "text/plain": [
       "Text(0.5,0,'标签')"
      ]
     },
     "execution_count": 4,
     "metadata": {},
     "output_type": "execute_result"
    },
    {
     "data": {
      "image/png": "[encoded data removed]",
      "text/plain": [
       "<matplotlib.figure.Figure at 0x7f2af823c630>"
      ]
     },
     "metadata": {},
     "output_type": "display_data"
    }
   ],
   "source": [
    "#前10个数量最多的标签分布\n",
    "df[:10].plot(x='tag', y='count', kind='bar', legend=False, grid=True, figsize=(10, 6),fontsize=18)\n",
    "plt.title(\"每个标签的分布\",fontsize=18)\n",
    "plt.ylabel('出现次数', fontsize=18)\n",
    "plt.xlabel('标签', fontsize=18)"
   ]
  },
  {
   "cell_type": "code",
   "execution_count": 5,
   "metadata": {},
   "outputs": [
    {
     "data": {
      "text/plain": [
       "Text(0.5,0,'标签数')"
      ]
     },
     "execution_count": 5,
     "metadata": {},
     "output_type": "execute_result"
    },
    {
     "data": {
      "image/png": "[encoded data removed]",
      "text/plain": [
       "<matplotlib.figure.Figure at 0x7f2af81e35f8>"
      ]
     },
     "metadata": {},
     "output_type": "display_data"
    }
   ],
   "source": [
    "tagCount=train['tags'].apply(lambda x : len(x))\n",
    "x = tagCount.value_counts()\n",
    "#plot\n",
    "plt.figure(figsize=(8,5))\n",
    "ax = sns.barplot(x.index, x.values)\n",
    "plt.title(\"标签数量分布\",fontsize=15)\n",
    "plt.ylabel('数量', fontsize=15)\n",
    "plt.xlabel('标签数', fontsize=15)"
   ]
  },
  {
   "cell_type": "code",
   "execution_count": 6,
   "metadata": {},
   "outputs": [
    {
     "data": {
      "text/plain": [
       "<matplotlib.axes._subplots.AxesSubplot at 0x7f2af81535c0>"
      ]
     },
     "execution_count": 6,
     "metadata": {},
     "output_type": "execute_result"
    },
    {
     "data": {
      "image/png": "[encoded data removed]",
      "text/plain": [
       "<matplotlib.figure.Figure at 0x7f2af9e1f978>"
      ]
     },
     "metadata": {},
     "output_type": "display_data"
    }
   ],
   "source": [
    "lens = train.title.str.len()\n",
    "lens.hist(bins = 30,figsize=(10, 6),grid=False)"
   ]
  },
  {
   "cell_type": "code",
   "execution_count": 7,
   "metadata": {},
   "outputs": [
    {
     "name": "stdout",
     "output_type": "stream",
     "text": [
      "title 为空的数量: 0\n",
      "tags 为空的数量: 0\n"
     ]
    }
   ],
   "source": [
    "print('title 为空的数量:',train['title'].isnull().sum())\n",
    "print('tags 为空的数量:',train['tags'].isnull().sum())"
   ]
  },
  {
   "cell_type": "code",
   "execution_count": 8,
   "metadata": {},
   "outputs": [],
   "source": [
    "#用空格替换各种符号\n",
    "REPLACE_BY_SPACE_RE = re.compile('[/(){}\\[\\]\\|@,;]') \n",
    "#删除各种符号\n",
    "BAD_SYMBOLS_RE = re.compile('[^0-9a-z #+_]')\n",
    "STOPWORDS = set(stopwords.words('english'))\n",
    "#定义数据清洗函数\n",
    "def text_prepare(text):\n",
    "    text = text.lower() # 字母小写化\n",
    "    text = REPLACE_BY_SPACE_RE.sub(' ',text) \n",
    "    text = BAD_SYMBOLS_RE.sub('',text)    \n",
    "    text = ' '.join([w for w in text.split() if w not in STOPWORDS]) # 删除停用词\n",
    "    return text"
   ]
  },
  {
   "cell_type": "code",
   "execution_count": 11,
   "metadata": {},
   "outputs": [
    {
     "data": {
      "text/plain": [
       "['draw stacked dotplot r',\n",
       " 'mysql select records datetime field less specified value',\n",
       " 'terminate windows phone 81 app',\n",
       " 'get current time specific country via jquery',\n",
       " 'configuring tomcat use ssl',\n",
       " 'awesome nested set plugin add new children tree various levels',\n",
       " 'create map json response ruby rails 3',\n",
       " 'rspec test method called',\n",
       " 'springboot catalina lifecycle exception',\n",
       " 'import data excel mysql database using php']"
      ]
     },
     "execution_count": 11,
     "metadata": {},
     "output_type": "execute_result"
    }
   ],
   "source": [
    "X_train, y_train = train.title, train.tags\n",
    "X_val, y_val = validation.title, validation.tags\n",
    "\n",
    "#开始进行数据清洗\n",
    "X_train = [text_prepare(x) for x in X_train]\n",
    "X_val = [text_prepare(x) for x in X_val]\n",
    "X_train[:10]"
   ]
  },
  {
   "cell_type": "code",
   "execution_count": 29,
   "metadata": {},
   "outputs": [
    {
     "name": "stdout",
     "output_type": "stream",
     "text": [
      "(100000, 18300)\n",
      "\n",
      "  (0, 12748)\t1\n",
      "  (0, 14941)\t1\n",
      "  (0, 4792)\t1\n",
      "  (1, 4093)\t1\n",
      "  (1, 14054)\t1\n",
      "  (1, 10426)\t1\n",
      "  (1, 17129)\t1\n",
      "  (1, 14801)\t1\n",
      "  (1, 9077)\t1\n",
      "  (1, 5815)\t1\n",
      "  (1, 4089)\t1\n",
      "  (1, 13008)\t1\n",
      "  (1, 14019)\t1\n",
      "  (1, 10394)\t1\n",
      "  (2, 244)\t1\n",
      "  (2, 11718)\t1\n",
      "  (2, 17871)\t1\n",
      "  (2, 887)\t1\n",
      "  (2, 243)\t1\n",
      "  (2, 11715)\t1\n",
      "  (2, 17849)\t1\n",
      "  (2, 15706)\t1\n",
      "  (3, 17433)\t1\n",
      "  (3, 15916)\t1\n",
      "  (3, 3742)\t1\n",
      "  :\t:\n",
      "  (99997, 5228)\t1\n",
      "  (99997, 14548)\t1\n",
      "  (99997, 14224)\t1\n",
      "  (99997, 13991)\t1\n",
      "  (99997, 12611)\t1\n",
      "  (99997, 11406)\t1\n",
      "  (99997, 12531)\t1\n",
      "  (99998, 4861)\t1\n",
      "  (99998, 5462)\t1\n",
      "  (99998, 925)\t1\n",
      "  (99998, 5453)\t1\n",
      "  (99998, 4856)\t1\n",
      "  (99998, 2418)\t1\n",
      "  (99998, 14702)\t1\n",
      "  (99998, 7068)\t1\n",
      "  (99998, 8650)\t1\n",
      "  (99998, 13655)\t1\n",
      "  (99998, 8189)\t1\n",
      "  (99998, 15887)\t1\n",
      "  (99998, 6669)\t1\n",
      "  (99999, 3581)\t1\n",
      "  (99999, 12248)\t1\n",
      "  (99999, 7998)\t1\n",
      "  (99999, 9242)\t1\n",
      "  (99999, 3554)\t1\n"
     ]
    }
   ],
   "source": [
    "cv = CountVectorizer(min_df=5,max_df=0.9,ngram_range=(1,2),token_pattern= '(\\S+)')\n",
    "feature = cv.fit_transform(X_train)\n",
    "print(feature.shape)\n",
    "print()\n",
    "print(feature)"
   ]
  },
  {
   "cell_type": "code",
   "execution_count": 30,
   "metadata": {},
   "outputs": [
    {
     "name": "stdout",
     "output_type": "stream",
     "text": [
      "(100000, 18300)\n",
      "\n",
      "  (0, 4792)\t0.5535025387941576\n",
      "  (0, 14941)\t0.7126565202061851\n",
      "  (0, 12748)\t0.4309937630129157\n",
      "  (1, 10394)\t0.20888863770024907\n",
      "  (1, 14019)\t0.22859508855051242\n",
      "  (1, 13008)\t0.2975359437533551\n",
      "  (1, 4089)\t0.2692803496632626\n",
      "  (1, 5815)\t0.2382368446529078\n",
      "  (1, 9077)\t0.3287166709387216\n",
      "  (1, 14801)\t0.29994308533196384\n",
      "  (1, 17129)\t0.18110148646398525\n",
      "  (1, 10426)\t0.3621376616529093\n",
      "  (1, 14054)\t0.4089312040982416\n",
      "  (1, 4093)\t0.39639224964237335\n",
      "  (2, 15706)\t0.39670241033325887\n",
      "  (2, 17849)\t0.2351453036010898\n",
      "  (2, 11715)\t0.3142739731167221\n",
      "  (2, 243)\t0.3716293832627843\n",
      "  (2, 887)\t0.24411894290285438\n",
      "  (2, 17871)\t0.3339121637039692\n",
      "  (2, 11718)\t0.3941792153794798\n",
      "  (2, 244)\t0.47327445521243877\n",
      "  (3, 6669)\t0.1692707961113005\n",
      "  (3, 3725)\t0.2552495715162359\n",
      "  (3, 15887)\t0.2234965219589451\n",
      "  :\t:\n",
      "  (99997, 12611)\t0.34104556902584193\n",
      "  (99997, 13991)\t0.3067513613267025\n",
      "  (99997, 14224)\t0.31389333347252774\n",
      "  (99997, 14548)\t0.37281164824471513\n",
      "  (99997, 5228)\t0.38155271570832655\n",
      "  (99997, 4104)\t0.4040911075960819\n",
      "  (99997, 11413)\t0.3867834602428051\n",
      "  (99998, 6669)\t0.15241657509350534\n",
      "  (99998, 15887)\t0.20124306853200105\n",
      "  (99998, 8189)\t0.2259396945657713\n",
      "  (99998, 13655)\t0.23467406443051372\n",
      "  (99998, 8650)\t0.2857095103430595\n",
      "  (99998, 7068)\t0.3203224500847147\n",
      "  (99998, 14702)\t0.24582885678575236\n",
      "  (99998, 2418)\t0.27918151790510803\n",
      "  (99998, 4856)\t0.2638517138799303\n",
      "  (99998, 5453)\t0.2555556710945007\n",
      "  (99998, 925)\t0.3552208262132948\n",
      "  (99998, 5462)\t0.33317397565247864\n",
      "  (99998, 4861)\t0.3680027831918835\n",
      "  (99999, 3554)\t0.3107248255546412\n",
      "  (99999, 9242)\t0.30183146214246015\n",
      "  (99999, 7998)\t0.39056130428842706\n",
      "  (99999, 12248)\t0.5517043750400694\n",
      "  (99999, 3581)\t0.5961811816882109\n"
     ]
    }
   ],
   "source": [
    "tfidf = TfidfVectorizer(min_df=5,max_df=0.9,ngram_range=(1,2),token_pattern= '(\\S+)')\n",
    "feature = tfidf.fit_transform(X_train)\n",
    "print(feature.shape)\n",
    "print()\n",
    "print(feature)"
   ]
  },
  {
   "cell_type": "code",
   "execution_count": null,
   "metadata": {},
   "outputs": [],
   "source": []
  },
  {
   "cell_type": "code",
   "execution_count": 35,
   "metadata": {},
   "outputs": [
    {
     "name": "stdout",
     "output_type": "stream",
     "text": [
      "(100000, 100)\n",
      "['r']\n",
      "[0 0 0 0 0 0 0 0 0 0 0 0 0 0 0 0 0 0 0 0 0 0 0 0 0 0 0 0 0 0 0 0 0 0 0 0 0\n",
      " 0 0 0 0 0 0 0 0 0 0 0 0 0 0 0 0 0 0 0 0 0 0 0 0 0 0 0 0 0 1 0 0 0 0 0 0 0\n",
      " 0 0 0 0 0 0 0 0 0 0 0 0 0 0 0 0 0 0 0 0 0 0 0 0 0 0]\n"
     ]
    }
   ],
   "source": [
    "#生成多标签的词袋矩阵\n",
    "mlb = MultiLabelBinarizer(classes=sorted(tag_dic.keys()))\n",
    "y_train = mlb.fit_transform(y_train)\n",
    "y_val = mlb.fit_transform(y_val)\n",
    "print(y_train.shape)\n",
    "print(train.tags[0])\n",
    "print(y_train[0])"
   ]
  },
  {
   "cell_type": "code",
   "execution_count": null,
   "metadata": {},
   "outputs": [],
   "source": []
  },
  {
   "cell_type": "code",
   "execution_count": 36,
   "metadata": {},
   "outputs": [],
   "source": [
    "from sklearn.metrics import accuracy_score\n",
    "from sklearn.metrics import f1_score\n",
    "from sklearn.metrics import roc_auc_score \n",
    "from sklearn.metrics import average_precision_score\n",
    "from sklearn.metrics import recall_score\n",
    "\n",
    "def print_evaluation_scores(y_val, predicted):\n",
    "    accuracy=accuracy_score(y_val, predicted)\n",
    "    f1_score_macro=f1_score(y_val, predicted, average='macro')\n",
    "    f1_score_micro=f1_score(y_val, predicted, average='micro')\n",
    "    f1_score_weighted=f1_score(y_val, predicted, average='weighted')\n",
    "    print(\"accuracy:\",accuracy)\n",
    "    print(\"f1_score_macro:\",f1_score_macro)\n",
    "    print(\"f1_score_micro:\",f1_score_micro)\n",
    "    print(\"f1_score_weighted:\",f1_score_weighted)\n",
    "#     print(\"precision_macro:\",precision_macro)\n",
    "#     print(\"precision_micro:\",precision_micro)\n",
    "#     print(\"precision_weighted:\",precision_weighted)"
   ]
  },
  {
   "cell_type": "markdown",
   "metadata": {},
   "source": [
    "### 1.TF-IDF+朴素贝叶斯"
   ]
  },
  {
   "cell_type": "code",
   "execution_count": 45,
   "metadata": {},
   "outputs": [
    {
     "name": "stderr",
     "output_type": "stream",
     "text": [
      "/usr/local/lib/python3.5/dist-packages/sklearn/metrics/classification.py:1135: UndefinedMetricWarning: F-score is ill-defined and being set to 0.0 in labels with no predicted samples.\n",
      "  'precision', 'predicted', average, warn_for)\n"
     ]
    },
    {
     "name": "stdout",
     "output_type": "stream",
     "text": [
      "accuracy: 0.19816666666666666\n",
      "f1_score_macro: 0.1106804556671684\n",
      "f1_score_micro: 0.4602042387232514\n",
      "f1_score_weighted: 0.398129431834211\n"
     ]
    },
    {
     "name": "stderr",
     "output_type": "stream",
     "text": [
      "/usr/local/lib/python3.5/dist-packages/sklearn/metrics/classification.py:1135: UndefinedMetricWarning: F-score is ill-defined and being set to 0.0 in labels with no predicted samples.\n",
      "  'precision', 'predicted', average, warn_for)\n"
     ]
    }
   ],
   "source": [
    "#朴素贝叶斯模型\n",
    "NB_pipeline = Pipeline([\n",
    "                ('tfidf', TfidfVectorizer(min_df=5,max_df=0.9,ngram_range=(1,2),token_pattern= '(\\S+)')),\n",
    "                ('clf', OneVsRestClassifier(MultinomialNB())),\n",
    "            ])\n",
    "\n",
    "NB_pipeline.fit(X_train,y_train)\n",
    "predicted = NB_pipeline.predict(X_val)\n",
    "print_evaluation_scores(y_val,predicted)"
   ]
  },
  {
   "cell_type": "markdown",
   "metadata": {},
   "source": [
    "### 2. TF-IDF+线性支持向量机"
   ]
  },
  {
   "cell_type": "code",
   "execution_count": 39,
   "metadata": {},
   "outputs": [
    {
     "name": "stdout",
     "output_type": "stream",
     "text": [
      "accuracy: 0.3762666666666667\n",
      "f1_score_macro: 0.5206782843884173\n",
      "f1_score_micro: 0.6849080977713582\n",
      "f1_score_weighted: 0.6614169003852886\n"
     ]
    }
   ],
   "source": [
    "SVC_pipeline = Pipeline([\n",
    "                ('tfidf', TfidfVectorizer(min_df=5,max_df=0.9,ngram_range=(1,2),token_pattern= '(\\S+)')),\n",
    "                ('clf', OneVsRestClassifier(LinearSVC(), n_jobs=1)),\n",
    "            ])\n",
    "\n",
    "SVC_pipeline.fit(X_train,y_train)\n",
    "predicted = SVC_pipeline.predict(X_val)\n",
    "print_evaluation_scores(y_val,predicted)"
   ]
  },
  {
   "cell_type": "markdown",
   "metadata": {},
   "source": [
    "### 3.TF-IDF+逻辑回归"
   ]
  },
  {
   "cell_type": "code",
   "execution_count": 40,
   "metadata": {},
   "outputs": [
    {
     "name": "stdout",
     "output_type": "stream",
     "text": [
      "accuracy: 0.33393333333333336\n",
      "f1_score_macro: 0.44570816904771116\n",
      "f1_score_micro: 0.6418085281077235\n",
      "f1_score_weighted: 0.614350867051105\n"
     ]
    }
   ],
   "source": [
    "LogReg_pipeline = Pipeline([\n",
    "                ('tfidf', TfidfVectorizer(min_df=5,max_df=0.9,ngram_range=(1,2),token_pattern= '(\\S+)')),\n",
    "                ('clf', OneVsRestClassifier(LogisticRegression(), n_jobs=1)),\n",
    "            ])\n",
    "\n",
    "LogReg_pipeline.fit(X_train,y_train)\n",
    "predicted = LogReg_pipeline.predict(X_val)\n",
    "print_evaluation_scores(y_val,predicted)"
   ]
  },
  {
   "cell_type": "markdown",
   "metadata": {},
   "source": [
    "### 4. CountVectorizer+朴素贝叶斯 "
   ]
  },
  {
   "cell_type": "code",
   "execution_count": 41,
   "metadata": {},
   "outputs": [
    {
     "name": "stdout",
     "output_type": "stream",
     "text": [
      "accuracy: 0.28733333333333333\n",
      "f1_score_macro: 0.4494407482839465\n",
      "f1_score_micro: 0.6405520891066098\n",
      "f1_score_weighted: 0.6270586794953129\n"
     ]
    }
   ],
   "source": [
    "NB_pipeline = Pipeline([\n",
    "                ('cv', CountVectorizer(min_df=5,max_df=0.9,ngram_range=(1,2),token_pattern= '(\\S+)')),\n",
    "                ('clf', OneVsRestClassifier(MultinomialNB(\n",
    "                    fit_prior=True, class_prior=None))),\n",
    "            ])\n",
    "\n",
    "NB_pipeline.fit(X_train,y_train)\n",
    "predicted = NB_pipeline.predict(X_val)\n",
    "print_evaluation_scores(y_val,predicted)"
   ]
  },
  {
   "cell_type": "markdown",
   "metadata": {},
   "source": [
    "### 5. CountVectorizer+线性支持向量机  "
   ]
  },
  {
   "cell_type": "code",
   "execution_count": 42,
   "metadata": {},
   "outputs": [
    {
     "name": "stdout",
     "output_type": "stream",
     "text": [
      "accuracy: 0.3384333333333333\n",
      "f1_score_macro: 0.5166982868428124\n",
      "f1_score_micro: 0.6618965500814604\n",
      "f1_score_weighted: 0.6495951881680853\n"
     ]
    }
   ],
   "source": [
    "SVC_pipeline = Pipeline([\n",
    "                ('cv', CountVectorizer(min_df=5,max_df=0.9,ngram_range=(1,2),token_pattern= '(\\S+)')),\n",
    "                ('clf', OneVsRestClassifier(LinearSVC(), n_jobs=1)),\n",
    "            ])\n",
    "\n",
    "SVC_pipeline.fit(X_train,y_train)\n",
    "predicted = SVC_pipeline.predict(X_val)\n",
    "print_evaluation_scores(y_val,predicted)\n"
   ]
  },
  {
   "cell_type": "markdown",
   "metadata": {},
   "source": [
    "### 6. CountVectorizer+逻辑回归  "
   ]
  },
  {
   "cell_type": "code",
   "execution_count": 44,
   "metadata": {},
   "outputs": [
    {
     "name": "stdout",
     "output_type": "stream",
     "text": [
      "accuracy: 0.35923333333333335\n",
      "f1_score_macro: 0.5067686700489948\n",
      "f1_score_micro: 0.6745877038274699\n",
      "f1_score_weighted: 0.6525450161539913\n"
     ]
    }
   ],
   "source": [
    "LogReg_pipeline = Pipeline([\n",
    "                ('cv', CountVectorizer(min_df=5,max_df=0.9,ngram_range=(1,2),token_pattern= '(\\S+)')),\n",
    "                ('clf', OneVsRestClassifier(LogisticRegression(), n_jobs=1)),\n",
    "            ])\n",
    "\n",
    "LogReg_pipeline.fit(X_train,y_train)\n",
    "predicted = LogReg_pipeline.predict(X_val)\n",
    "print_evaluation_scores(y_val,predicted)"
   ]
  },
  {
   "cell_type": "code",
   "execution_count": null,
   "metadata": {},
   "outputs": [],
   "source": []
  },
  {
   "cell_type": "code",
   "execution_count": null,
   "metadata": {},
   "outputs": [],
   "source": []
  },
  {
   "cell_type": "code",
   "execution_count": null,
   "metadata": {},
   "outputs": [],
   "source": []
  }
 ],
 "metadata": {
  "kernelspec": {
   "display_name": "Python 3",
   "language": "python",
   "name": "python3"
  },
  "language_info": {
   "codemirror_mode": {
    "name": "ipython",
    "version": 3
   },
   "file_extension": ".py",
   "mimetype": "text/x-python",
   "name": "python",
   "nbconvert_exporter": "python",
   "pygments_lexer": "ipython3",
   "version": "3.5.2"
  }
 },
 "nbformat": 4,
 "nbformat_minor": 2
}
