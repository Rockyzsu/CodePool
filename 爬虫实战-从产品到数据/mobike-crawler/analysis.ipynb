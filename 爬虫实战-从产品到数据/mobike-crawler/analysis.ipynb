{
 "cells": [
  {
   "cell_type": "code",
   "execution_count": 2,
   "metadata": {},
   "outputs": [],
   "source": [
    "%matplotlib inline\n",
    "\n",
    "import seaborn\n",
    "from matplotlib import style\n",
    "import matplotlib.style\n",
    "import matplotlib as mpl\n",
    "mpl.style.use('seaborn-ticks')"
   ]
  },
  {
   "cell_type": "code",
   "execution_count": 3,
   "metadata": {},
   "outputs": [],
   "source": [
    "import psycopg2 as pg\n",
    "from sqlalchemy import create_engine\n",
    "import pandas as pd\n",
    "\n",
    "# 连接数据库\n",
    "con = create_engine('postgresql://derekhe@localhost/mobike')\n",
    "\n",
    "# 从数据库中直接读取到DataFrame中\n",
    "df = pd.read_sql_table(\"mobike_20180529\",  con = con)\n",
    "\n",
    "con.dispose()"
   ]
  },
  {
   "cell_type": "code",
   "execution_count": 4,
   "metadata": {},
   "outputs": [
    {
     "data": {
      "text/plain": [
       "305405"
      ]
     },
     "execution_count": 4,
     "metadata": {},
     "output_type": "execute_result"
    }
   ],
   "source": [
    "# 单车数量\n",
    "total = len(df.bike_id.unique())\n",
    "total"
   ]
  },
  {
   "cell_type": "code",
   "execution_count": 5,
   "metadata": {},
   "outputs": [],
   "source": [
    "# 载入Cython进行编译，加速数据处理\n",
    "%load_ext Cython"
   ]
  },
  {
   "cell_type": "code",
   "execution_count": 6,
   "metadata": {},
   "outputs": [],
   "source": [
    "%%cython\n",
    "import math\n",
    "import datetime\n",
    "from geopy.distance import great_circle\n",
    "import pandas as pd\n",
    "\n",
    "i = 0\n",
    "\n",
    "def calc_distance(r):\n",
    "    d = great_circle((r['lng'], r['lat']), (r['lng2'], r['lat2'])).meters\n",
    "    # 100米以下的移动可以认为是GPS的漂移\n",
    "    return 0 if d < 100 else d\n",
    "    \n",
    "def shift_loc(g):\n",
    "    global i, total\n",
    "    \n",
    "    # 增加一条新的记录到最后用于收尾\n",
    "    tail = g.tail(1).copy()\n",
    "    tail.crawl_date = datetime.datetime(2018,5,30)\n",
    "    g = g.append(tail, ignore_index=True)\n",
    "    \n",
    "    # 计算偏移量\n",
    "    g[['lat2','lng2']] = g[['lat','lng']].shift(-1).fillna(method='ffill')\n",
    "    g['distance'] = g.apply(calc_distance, axis=1)\n",
    "    \n",
    "    # 由于可能存在GPS漂移，所以会有多个连续的距离为0的数据。这里将中间的数据进行移除，达到合并数据的目的\n",
    "    g = g.drop(g[(g.distance == 0) & ((g.distance==0).shift(1))].index[:-1])    \n",
    "    \n",
    "    # 计算时间差\n",
    "    g['start_time'] = g.crawl_date\n",
    "    g['end_time'] = g.crawl_date.shift(-1).fillna(method='ffill')\n",
    "    g['time_diff'] = g.end_time - g.start_time\n",
    "    \n",
    "    # 打印进度\n",
    "    i= i + 1\n",
    "    if i % 1000 ==0 :\n",
    "        print(i, datetime.datetime.now())\n",
    "        \n",
    "    # 移除最后一条多余的记录\n",
    "    return g[:-1]"
   ]
  },
  {
   "cell_type": "code",
   "execution_count": null,
   "metadata": {
    "scrolled": false
   },
   "outputs": [],
   "source": [
    "# 小范围的看一下单车的情况，快速展示算法\n",
    "df_bikes = df[df.bike_id.isin(df.bike_id.values[5000:6000])]\n",
    "\n",
    "df_detail = df_bikes.groupby('bike_id').apply(shift_loc).set_index(['bike_id', 'crawl_date']).sort_index()"
   ]
  },
  {
   "cell_type": "code",
   "execution_count": 7,
   "metadata": {},
   "outputs": [],
   "source": [
    "# 全量计算所有的单车信息，在intel i7 3770K@4.5G处理器上，需要耗时接近一个小时\n",
    "# 去掉注释以运行，请注意电脑的内存消耗\n",
    "# df_detail = df.groupby('bike_id').apply(shift_loc).set_index(['bike_id', 'crawl_date']).sort_index()\n",
    "\n",
    "# 读取上一次存储的结果而不用反复计算\n",
    "df_detail = pd.read_hdf(\"bike_detail.hdf\", key='bike')"
   ]
  },
  {
   "cell_type": "markdown",
   "metadata": {},
   "source": [
    "计算使用次数"
   ]
  },
  {
   "cell_type": "code",
   "execution_count": 11,
   "metadata": {
    "code_folding": []
   },
   "outputs": [],
   "source": [
    "%%cython\n",
    "def num_of_usage(g):\n",
    "    return len(g[g['distance'] != 0])"
   ]
  },
  {
   "cell_type": "code",
   "execution_count": 12,
   "metadata": {},
   "outputs": [
    {
     "data": {
      "text/plain": [
       "bike_id\n",
       "0216189652#    57\n",
       "0216521860#    55\n",
       "0216632422#    38\n",
       "0216799153#    18\n",
       "8620888950#    18\n",
       "0216500154#    18\n",
       "0216820962#    17\n",
       "0216731615#    17\n",
       "8621559366#    17\n",
       "8621531992#    17\n",
       "0216849253#    17\n",
       "0216707762#    17\n",
       "0216578159#    17\n",
       "8620816725#    17\n",
       "0216811740#    17\n",
       "0216559484#    16\n",
       "0216791340#    16\n",
       "8620814985#    16\n",
       "8620415521#    16\n",
       "0216509735#    16\n",
       "8621559139#    16\n",
       "8620610890#    16\n",
       "8621725407#    16\n",
       "0216683844#    16\n",
       "0216702729#    16\n",
       "0210113956#    16\n",
       "0216542626#    15\n",
       "8621526223#    15\n",
       "0216616658#    15\n",
       "8621322863#    15\n",
       "               ..\n",
       "0216686134#     0\n",
       "0216686130#     0\n",
       "0216686123#     0\n",
       "0216686117#     0\n",
       "0216686113#     0\n",
       "8621526298#     0\n",
       "0216686104#     0\n",
       "0216686173#     0\n",
       "0216686179#     0\n",
       "0216686273#     0\n",
       "0216686208#     0\n",
       "0216686250#     0\n",
       "8621526288#     0\n",
       "0216686236#     0\n",
       "0216686235#     0\n",
       "0216686227#     0\n",
       "0216686224#     0\n",
       "0216686223#     0\n",
       "0216686218#     0\n",
       "0216686206#     0\n",
       "0216686185#     0\n",
       "8621526289#     0\n",
       "0216686200#     0\n",
       "0216686199#     0\n",
       "0216686195#     0\n",
       "0216686194#     0\n",
       "0216686192#     0\n",
       "0216686190#     0\n",
       "0216686189#     0\n",
       "0100040745#     0\n",
       "Length: 305405, dtype: int64"
      ]
     },
     "execution_count": 12,
     "metadata": {},
     "output_type": "execute_result"
    }
   ],
   "source": [
    "usage_count = df_detail.groupby('bike_id').apply(num_of_usage).sort_values(ascending=False)\n",
    "usage_count"
   ]
  },
  {
   "cell_type": "code",
   "execution_count": 9,
   "metadata": {},
   "outputs": [],
   "source": [
    "# 将计算结果存下来以便后续使用\n",
    "df_detail.to_hdf(\"bike_detail.hdf\", key='bike')"
   ]
  },
  {
   "cell_type": "code",
   "execution_count": 22,
   "metadata": {},
   "outputs": [
    {
     "data": {
      "text/html": [
       "<div>\n",
       "<style>\n",
       "    .dataframe thead tr:only-child th {\n",
       "        text-align: right;\n",
       "    }\n",
       "\n",
       "    .dataframe thead th {\n",
       "        text-align: left;\n",
       "    }\n",
       "\n",
       "    .dataframe tbody tr th {\n",
       "        vertical-align: top;\n",
       "    }\n",
       "</style>\n",
       "<table border=\"1\" class=\"dataframe\">\n",
       "  <thead>\n",
       "    <tr style=\"text-align: right;\">\n",
       "      <th></th>\n",
       "      <th>lat</th>\n",
       "      <th>lng</th>\n",
       "      <th>lat2</th>\n",
       "      <th>lng2</th>\n",
       "      <th>distance</th>\n",
       "      <th>start_time</th>\n",
       "      <th>end_time</th>\n",
       "      <th>time_diff</th>\n",
       "    </tr>\n",
       "    <tr>\n",
       "      <th>crawl_date</th>\n",
       "      <th></th>\n",
       "      <th></th>\n",
       "      <th></th>\n",
       "      <th></th>\n",
       "      <th></th>\n",
       "      <th></th>\n",
       "      <th></th>\n",
       "      <th></th>\n",
       "    </tr>\n",
       "  </thead>\n",
       "  <tbody>\n",
       "    <tr>\n",
       "      <th>2018-05-29 07:40:54</th>\n",
       "      <td>121.466822</td>\n",
       "      <td>31.305110</td>\n",
       "      <td>121.467663</td>\n",
       "      <td>31.310345</td>\n",
       "      <td>587.563977</td>\n",
       "      <td>2018-05-29 07:40:54</td>\n",
       "      <td>2018-05-29 08:28:00</td>\n",
       "      <td>00:47:06</td>\n",
       "    </tr>\n",
       "    <tr>\n",
       "      <th>2018-05-29 08:28:00</th>\n",
       "      <td>121.467663</td>\n",
       "      <td>31.310345</td>\n",
       "      <td>121.467663</td>\n",
       "      <td>31.310345</td>\n",
       "      <td>0.000000</td>\n",
       "      <td>2018-05-29 08:28:00</td>\n",
       "      <td>2018-05-29 10:35:51</td>\n",
       "      <td>02:07:51</td>\n",
       "    </tr>\n",
       "    <tr>\n",
       "      <th>2018-05-29 10:35:51</th>\n",
       "      <td>121.467663</td>\n",
       "      <td>31.310345</td>\n",
       "      <td>121.490196</td>\n",
       "      <td>31.333375</td>\n",
       "      <td>3337.532865</td>\n",
       "      <td>2018-05-29 10:35:51</td>\n",
       "      <td>2018-05-29 15:07:42</td>\n",
       "      <td>04:31:51</td>\n",
       "    </tr>\n",
       "    <tr>\n",
       "      <th>2018-05-29 15:07:42</th>\n",
       "      <td>121.490196</td>\n",
       "      <td>31.333375</td>\n",
       "      <td>121.490196</td>\n",
       "      <td>31.333375</td>\n",
       "      <td>0.000000</td>\n",
       "      <td>2018-05-29 15:07:42</td>\n",
       "      <td>2018-05-30 00:00:00</td>\n",
       "      <td>08:52:18</td>\n",
       "    </tr>\n",
       "  </tbody>\n",
       "</table>\n",
       "</div>"
      ],
      "text/plain": [
       "                            lat        lng        lat2       lng2  \\\n",
       "crawl_date                                                          \n",
       "2018-05-29 07:40:54  121.466822  31.305110  121.467663  31.310345   \n",
       "2018-05-29 08:28:00  121.467663  31.310345  121.467663  31.310345   \n",
       "2018-05-29 10:35:51  121.467663  31.310345  121.490196  31.333375   \n",
       "2018-05-29 15:07:42  121.490196  31.333375  121.490196  31.333375   \n",
       "\n",
       "                        distance          start_time            end_time  \\\n",
       "crawl_date                                                                 \n",
       "2018-05-29 07:40:54   587.563977 2018-05-29 07:40:54 2018-05-29 08:28:00   \n",
       "2018-05-29 08:28:00     0.000000 2018-05-29 08:28:00 2018-05-29 10:35:51   \n",
       "2018-05-29 10:35:51  3337.532865 2018-05-29 10:35:51 2018-05-29 15:07:42   \n",
       "2018-05-29 15:07:42     0.000000 2018-05-29 15:07:42 2018-05-30 00:00:00   \n",
       "\n",
       "                    time_diff  \n",
       "crawl_date                     \n",
       "2018-05-29 07:40:54  00:47:06  \n",
       "2018-05-29 08:28:00  02:07:51  \n",
       "2018-05-29 10:35:51  04:31:51  \n",
       "2018-05-29 15:07:42  08:52:18  "
      ]
     },
     "execution_count": 22,
     "metadata": {},
     "output_type": "execute_result"
    }
   ],
   "source": [
    "# 单车的详细情况\n",
    "df_detail.loc[usage_count[usage_count==2].index[0]]"
   ]
  },
  {
   "cell_type": "code",
   "execution_count": 11,
   "metadata": {},
   "outputs": [
    {
     "data": {
      "text/plain": [
       "<matplotlib.axes._subplots.AxesSubplot at 0x7f2e100a52e8>"
      ]
     },
     "execution_count": 11,
     "metadata": {},
     "output_type": "execute_result"
    },
    {
     "data": {
      "image/png": "[encoded data removed]",
      "text/plain": [
       "<matplotlib.figure.Figure at 0x7f2db963b240>"
      ]
     },
     "metadata": {},
     "output_type": "display_data"
    }
   ],
   "source": [
    "# 使用次数分布图\n",
    "usage_count[usage_count!=0].hist(bins=range(1,11))"
   ]
  },
  {
   "cell_type": "code",
   "execution_count": 12,
   "metadata": {},
   "outputs": [
    {
     "data": {
      "text/plain": [
       "46.48548648515905"
      ]
     },
     "execution_count": 12,
     "metadata": {},
     "output_type": "execute_result"
    }
   ],
   "source": [
    "# 未移动的单车的比例\n",
    "len(usage_count[usage_count == 0]) / len(usage_count) * 100"
   ]
  },
  {
   "cell_type": "code",
   "execution_count": 13,
   "metadata": {},
   "outputs": [
    {
     "data": {
      "text/plain": [
       "<matplotlib.axes._subplots.AxesSubplot at 0x7f2dc3b2e518>"
      ]
     },
     "execution_count": 13,
     "metadata": {},
     "output_type": "execute_result"
    },
    {
     "data": {
      "image/png": "[encoded data removed]",
      "text/plain": [
       "<matplotlib.figure.Figure at 0x7f2dc3619208>"
      ]
     },
     "metadata": {},
     "output_type": "display_data"
    }
   ],
   "source": [
    "# 出行距离统计\n",
    "df_detail[df_detail.distance!=0]['distance'].hist(bins=range(0, 10000, 500))"
   ]
  },
  {
   "cell_type": "code",
   "execution_count": 14,
   "metadata": {},
   "outputs": [
    {
     "data": {
      "text/plain": [
       "<matplotlib.axes._subplots.AxesSubplot at 0x7f2dc356de80>"
      ]
     },
     "execution_count": 14,
     "metadata": {},
     "output_type": "execute_result"
    },
    {
     "data": {
      "image/png": "[encoded data removed]",
      "text/plain": [
       "<matplotlib.figure.Figure at 0x7f2dc34dea20>"
      ]
     },
     "metadata": {},
     "output_type": "display_data"
    }
   ],
   "source": [
    "# 出行时段统计\n",
    "df_detail[df_detail.distance!=0]['start_time'].hist(bins=24, xrot=45)"
   ]
  },
  {
   "cell_type": "code",
   "execution_count": 19,
   "metadata": {},
   "outputs": [],
   "source": [
    "df_detail.loc[usage_count[usage_count==18].index[0]].to_csv('bike_movement.csv')"
   ]
  }
 ],
 "metadata": {
  "kernelspec": {
   "display_name": "Python 3",
   "language": "python",
   "name": "python3"
  },
  "language_info": {
   "codemirror_mode": {
    "name": "ipython",
    "version": 3
   },
   "file_extension": ".py",
   "mimetype": "text/x-python",
   "name": "python",
   "nbconvert_exporter": "python",
   "pygments_lexer": "ipython3",
   "version": "3.5.2"
  },
  "varInspector": {
   "cols": {
    "lenName": 16,
    "lenType": 16,
    "lenVar": 40
   },
   "kernels_config": {
    "python": {
     "delete_cmd_postfix": "",
     "delete_cmd_prefix": "del ",
     "library": "var_list.py",
     "varRefreshCmd": "print(var_dic_list())"
    },
    "r": {
     "delete_cmd_postfix": ") ",
     "delete_cmd_prefix": "rm(",
     "library": "var_list.r",
     "varRefreshCmd": "cat(var_dic_list()) "
    }
   },
   "position": {
    "height": "535px",
    "left": "795px",
    "right": "20px",
    "top": "92px",
    "width": "350px"
   },
   "types_to_exclude": [
    "module",
    "function",
    "builtin_function_or_method",
    "instance",
    "_Feature"
   ],
   "window_display": false
  }
 },
 "nbformat": 4,
 "nbformat_minor": 2
}
