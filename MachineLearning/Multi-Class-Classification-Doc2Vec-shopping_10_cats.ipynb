{
 "cells": [
  {
   "cell_type": "code",
   "execution_count": 22,
   "metadata": {},
   "outputs": [],
   "source": [
    "%matplotlib inline\n",
    "import pandas as pd\n",
    "import matplotlib\n",
    "import numpy as np\n",
    "import matplotlib.pyplot as plt\n",
    "import jieba as jb\n",
    "import re\n",
    "from sklearn import utils\n",
    "from sklearn.linear_model import LogisticRegression\n",
    "from sklearn.model_selection import train_test_split\n",
    "from gensim.models.doc2vec import TaggedDocument\n",
    "import multiprocessing\n"
   ]
  },
  {
   "cell_type": "markdown",
   "metadata": {},
   "source": [
    "### EDA"
   ]
  },
  {
   "cell_type": "code",
   "execution_count": 3,
   "metadata": {},
   "outputs": [
    {
     "name": "stdout",
     "output_type": "stream",
     "text": [
      "数据总量: 62774 .\n"
     ]
    },
    {
     "data": {
      "text/html": [
       "<div>\n",
       "<style scoped>\n",
       "    .dataframe tbody tr th:only-of-type {\n",
       "        vertical-align: middle;\n",
       "    }\n",
       "\n",
       "    .dataframe tbody tr th {\n",
       "        vertical-align: top;\n",
       "    }\n",
       "\n",
       "    .dataframe thead th {\n",
       "        text-align: right;\n",
       "    }\n",
       "</style>\n",
       "<table border=\"1\" class=\"dataframe\">\n",
       "  <thead>\n",
       "    <tr style=\"text-align: right;\">\n",
       "      <th></th>\n",
       "      <th>cat</th>\n",
       "      <th>review</th>\n",
       "    </tr>\n",
       "  </thead>\n",
       "  <tbody>\n",
       "    <tr>\n",
       "      <th>46230</th>\n",
       "      <td>衣服</td>\n",
       "      <td>放洗衣机里洗破了</td>\n",
       "    </tr>\n",
       "    <tr>\n",
       "      <th>18277</th>\n",
       "      <td>水果</td>\n",
       "      <td>这个苹果感觉是长熟的苹果，没有打蜡，不错，又甜又脆</td>\n",
       "    </tr>\n",
       "    <tr>\n",
       "      <th>34140</th>\n",
       "      <td>洗发水</td>\n",
       "      <td>左手边开封的是超市买的，右手边未开封的京东买的，居然没有QS标志，详细的大家可以对比看......</td>\n",
       "    </tr>\n",
       "    <tr>\n",
       "      <th>55755</th>\n",
       "      <td>酒店</td>\n",
       "      <td>酒店比较老，设施一般，但是服务相当好，价格也比较合理。值得推荐。</td>\n",
       "    </tr>\n",
       "    <tr>\n",
       "      <th>26964</th>\n",
       "      <td>洗发水</td>\n",
       "      <td>物流真给力，京东的物流一直都很棒，东西也很好，满意</td>\n",
       "    </tr>\n",
       "    <tr>\n",
       "      <th>9599</th>\n",
       "      <td>平板</td>\n",
       "      <td>连接无线平板会卡，质量太差</td>\n",
       "    </tr>\n",
       "    <tr>\n",
       "      <th>26055</th>\n",
       "      <td>水果</td>\n",
       "      <td>潘苹果也不甜，这次生鲜水果购货体验不好</td>\n",
       "    </tr>\n",
       "    <tr>\n",
       "      <th>17148</th>\n",
       "      <td>水果</td>\n",
       "      <td>新鲜水果，速度很快，已经来过很多次了，打折有优惠</td>\n",
       "    </tr>\n",
       "    <tr>\n",
       "      <th>22542</th>\n",
       "      <td>水果</td>\n",
       "      <td>个头不大，水分还可。就是苦的。不好</td>\n",
       "    </tr>\n",
       "    <tr>\n",
       "      <th>27544</th>\n",
       "      <td>洗发水</td>\n",
       "      <td>老公喜欢用清扬的，洗过头感觉很舒服，是正品哦，，包装也很好，京东值得你去信赖！</td>\n",
       "    </tr>\n",
       "  </tbody>\n",
       "</table>\n",
       "</div>"
      ],
      "text/plain": [
       "       cat                                             review\n",
       "46230   衣服                                           放洗衣机里洗破了\n",
       "18277   水果                          这个苹果感觉是长熟的苹果，没有打蜡，不错，又甜又脆\n",
       "34140  洗发水  左手边开封的是超市买的，右手边未开封的京东买的，居然没有QS标志，详细的大家可以对比看......\n",
       "55755   酒店                   酒店比较老，设施一般，但是服务相当好，价格也比较合理。值得推荐。\n",
       "26964  洗发水                          物流真给力，京东的物流一直都很棒，东西也很好，满意\n",
       "9599    平板                                      连接无线平板会卡，质量太差\n",
       "26055   水果                                潘苹果也不甜，这次生鲜水果购货体验不好\n",
       "17148   水果                           新鲜水果，速度很快，已经来过很多次了，打折有优惠\n",
       "22542   水果                                  个头不大，水分还可。就是苦的。不好\n",
       "27544  洗发水            老公喜欢用清扬的，洗过头感觉很舒服，是正品哦，，包装也很好，京东值得你去信赖！"
      ]
     },
     "execution_count": 3,
     "metadata": {},
     "output_type": "execute_result"
    }
   ],
   "source": [
    "df = pd.read_csv('./data/shopping.csv')\n",
    "df=df[['cat','review']]\n",
    "print(\"数据总量: %d .\" % len(df))\n",
    "df.sample(10)"
   ]
  },
  {
   "cell_type": "code",
   "execution_count": 4,
   "metadata": {},
   "outputs": [
    {
     "name": "stdout",
     "output_type": "stream",
     "text": [
      "在 cat 列中总共有 0 个空值.\n",
      "在 review 列中总共有 1 个空值.\n"
     ]
    }
   ],
   "source": [
    "print(\"在 cat 列中总共有 %d 个空值.\" % df['cat'].isnull().sum())\n",
    "print(\"在 review 列中总共有 %d 个空值.\" % df['review'].isnull().sum())\n",
    "df[df.isnull().values==True]\n",
    "df = df[pd.notnull(df['review'])]\n",
    "df = df.reset_index(drop=True)"
   ]
  },
  {
   "cell_type": "code",
   "execution_count": 6,
   "metadata": {},
   "outputs": [
    {
     "name": "stdout",
     "output_type": "stream",
     "text": [
      "   cat  count\n",
      "0   衣服  10000\n",
      "1   水果  10000\n",
      "2  洗发水  10000\n",
      "3   酒店  10000\n",
      "4   平板  10000\n",
      "5  计算机   3992\n",
      "6   书籍   3851\n",
      "7   手机   2323\n",
      "8   蒙牛   2033\n",
      "9  热水器    574\n"
     ]
    },
    {
     "data": {
      "text/plain": [
       "Text(0.5,0,'类目')"
      ]
     },
     "execution_count": 6,
     "metadata": {},
     "output_type": "execute_result"
    },
    {
     "data": {
      "image/png": "[encoded data removed]",
      "text/plain": [
       "<matplotlib.figure.Figure at 0x7ff270b9d668>"
      ]
     },
     "metadata": {},
     "output_type": "display_data"
    }
   ],
   "source": [
    "d = {'cat':df['cat'].value_counts().index, 'count': df['cat'].value_counts()}\n",
    "df_cat = pd.DataFrame(data=d).reset_index(drop=True)\n",
    "print(df_cat)\n",
    "\n",
    "df_cat.plot(x='cat', y='count', kind='bar', legend=False,  figsize=(8, 5))\n",
    "plt.title(\"类目数量分布\")\n",
    "plt.ylabel('数量', fontsize=18)\n",
    "plt.xlabel('类目', fontsize=18)"
   ]
  },
  {
   "cell_type": "markdown",
   "metadata": {},
   "source": [
    "### 数据清洗"
   ]
  },
  {
   "cell_type": "code",
   "execution_count": 11,
   "metadata": {},
   "outputs": [],
   "source": [
    "#定义删除除字母,数字，汉字以外的所有符号的函数\n",
    "def remove_punctuation(line):\n",
    "    line = str(line)\n",
    "    if line.strip()=='':\n",
    "        return ''\n",
    "    rule = re.compile(u\"[^a-zA-Z0-9\\u4E00-\\u9FA5]\")\n",
    "    line = rule.sub('',line)\n",
    "    return line\n",
    "\n",
    "#停用词列表\n",
    "def stopwordslist(filepath):  \n",
    "    stopwords = [line.strip() for line in open(filepath, 'r', encoding='utf-8').readlines()]  \n",
    "    return stopwords  \n",
    "\n",
    "#加载停用词\n",
    "stopwords = stopwordslist(\"./data/chineseStopWords.txt\")"
   ]
  },
  {
   "cell_type": "code",
   "execution_count": 12,
   "metadata": {},
   "outputs": [
    {
     "name": "stderr",
     "output_type": "stream",
     "text": [
      "Building prefix dict from the default dictionary ...\n",
      "Loading model from cache /tmp/jieba.cache\n",
      "Loading model cost 0.898 seconds.\n",
      "Prefix dict has been built succesfully.\n"
     ]
    },
    {
     "data": {
      "text/html": [
       "<div>\n",
       "<style scoped>\n",
       "    .dataframe tbody tr th:only-of-type {\n",
       "        vertical-align: middle;\n",
       "    }\n",
       "\n",
       "    .dataframe tbody tr th {\n",
       "        vertical-align: top;\n",
       "    }\n",
       "\n",
       "    .dataframe thead th {\n",
       "        text-align: right;\n",
       "    }\n",
       "</style>\n",
       "<table border=\"1\" class=\"dataframe\">\n",
       "  <thead>\n",
       "    <tr style=\"text-align: right;\">\n",
       "      <th></th>\n",
       "      <th>cat</th>\n",
       "      <th>review</th>\n",
       "      <th>clean_review</th>\n",
       "      <th>cut_review</th>\n",
       "    </tr>\n",
       "  </thead>\n",
       "  <tbody>\n",
       "    <tr>\n",
       "      <th>0</th>\n",
       "      <td>书籍</td>\n",
       "      <td>﻿做父母一定要有刘墉这样的心态，不断地学习，不断地进步，不断地给自己补充新鲜血液，让自己保持...</td>\n",
       "      <td>做父母一定要有刘墉这样的心态不断地学习不断地进步不断地给自己补充新鲜血液让自己保持一颗年轻的...</td>\n",
       "      <td>[做, 父母, 一定, 刘墉, 心态, 不断, 学习, 不断, 进步, 不断, 补充, 新鲜...</td>\n",
       "    </tr>\n",
       "    <tr>\n",
       "      <th>1</th>\n",
       "      <td>书籍</td>\n",
       "      <td>作者真有英国人严谨的风格，提出观点、进行论述论证，尽管本人对物理学了解不深，但是仍然能感受到...</td>\n",
       "      <td>作者真有英国人严谨的风格提出观点进行论述论证尽管本人对物理学了解不深但是仍然能感受到真理的火...</td>\n",
       "      <td>[作者, 真有, 英国人, 严谨, 风格, 提出, 观点, 进行, 论述, 论证, 物理学,...</td>\n",
       "    </tr>\n",
       "    <tr>\n",
       "      <th>2</th>\n",
       "      <td>书籍</td>\n",
       "      <td>作者长篇大论借用详细报告数据处理工作和计算结果支持其新观点。为什么荷兰曾经县有欧洲最高的生产...</td>\n",
       "      <td>作者长篇大论借用详细报告数据处理工作和计算结果支持其新观点为什么荷兰曾经县有欧洲最高的生产率...</td>\n",
       "      <td>[作者, 长篇大论, 借用, 详细, 报告, 数据处理, 工作, 计算结果, 支持, 其新,...</td>\n",
       "    </tr>\n",
       "    <tr>\n",
       "      <th>3</th>\n",
       "      <td>书籍</td>\n",
       "      <td>作者在战几时之前用了＂拥抱＂令人叫绝．日本如果没有战败，就有会有美军的占领，没胡官僚主义的延...</td>\n",
       "      <td>作者在战几时之前用了拥抱令人叫绝日本如果没有战败就有会有美军的占领没胡官僚主义的延续没有战后...</td>\n",
       "      <td>[作者, 战, 之前, 拥抱, 令人, 叫绝, 日本, 没有, 战败, 会, 美军, 占领,...</td>\n",
       "    </tr>\n",
       "    <tr>\n",
       "      <th>4</th>\n",
       "      <td>书籍</td>\n",
       "      <td>作者在少年时即喜阅读，能看出他精读了无数经典，因而他有一个庞大的内心世界。他的作品最难能可贵...</td>\n",
       "      <td>作者在少年时即喜阅读能看出他精读了无数经典因而他有一个庞大的内心世界他的作品最难能可贵的有两...</td>\n",
       "      <td>[作者, 少年, 时即, 喜, 阅读, 看出, 精读, 无数, 经典, 一个, 庞大, 内心...</td>\n",
       "    </tr>\n",
       "  </tbody>\n",
       "</table>\n",
       "</div>"
      ],
      "text/plain": [
       "  cat                                             review  \\\n",
       "0  书籍  ﻿做父母一定要有刘墉这样的心态，不断地学习，不断地进步，不断地给自己补充新鲜血液，让自己保持...   \n",
       "1  书籍  作者真有英国人严谨的风格，提出观点、进行论述论证，尽管本人对物理学了解不深，但是仍然能感受到...   \n",
       "2  书籍  作者长篇大论借用详细报告数据处理工作和计算结果支持其新观点。为什么荷兰曾经县有欧洲最高的生产...   \n",
       "3  书籍  作者在战几时之前用了＂拥抱＂令人叫绝．日本如果没有战败，就有会有美军的占领，没胡官僚主义的延...   \n",
       "4  书籍  作者在少年时即喜阅读，能看出他精读了无数经典，因而他有一个庞大的内心世界。他的作品最难能可贵...   \n",
       "\n",
       "                                        clean_review  \\\n",
       "0  做父母一定要有刘墉这样的心态不断地学习不断地进步不断地给自己补充新鲜血液让自己保持一颗年轻的...   \n",
       "1  作者真有英国人严谨的风格提出观点进行论述论证尽管本人对物理学了解不深但是仍然能感受到真理的火...   \n",
       "2  作者长篇大论借用详细报告数据处理工作和计算结果支持其新观点为什么荷兰曾经县有欧洲最高的生产率...   \n",
       "3  作者在战几时之前用了拥抱令人叫绝日本如果没有战败就有会有美军的占领没胡官僚主义的延续没有战后...   \n",
       "4  作者在少年时即喜阅读能看出他精读了无数经典因而他有一个庞大的内心世界他的作品最难能可贵的有两...   \n",
       "\n",
       "                                          cut_review  \n",
       "0  [做, 父母, 一定, 刘墉, 心态, 不断, 学习, 不断, 进步, 不断, 补充, 新鲜...  \n",
       "1  [作者, 真有, 英国人, 严谨, 风格, 提出, 观点, 进行, 论述, 论证, 物理学,...  \n",
       "2  [作者, 长篇大论, 借用, 详细, 报告, 数据处理, 工作, 计算结果, 支持, 其新,...  \n",
       "3  [作者, 战, 之前, 拥抱, 令人, 叫绝, 日本, 没有, 战败, 会, 美军, 占领,...  \n",
       "4  [作者, 少年, 时即, 喜, 阅读, 看出, 精读, 无数, 经典, 一个, 庞大, 内心...  "
      ]
     },
     "execution_count": 12,
     "metadata": {},
     "output_type": "execute_result"
    }
   ],
   "source": [
    "#删除除字母,数字，汉字以外的所有符号\n",
    "df['clean_review'] = df['review'].apply(remove_punctuation)\n",
    "\n",
    "#分词，并过滤停用词\n",
    "# df['cut_review'] = df['clean_review'].apply(lambda x: \" \".join([w for w in list(jb.cut(x)) if w not in stopwords]))\n",
    "df['cut_review'] = df['clean_review'].apply(lambda x: [w for w in list(jb.cut(x)) if w not in stopwords])\n",
    "df.head()\n"
   ]
  },
  {
   "cell_type": "code",
   "execution_count": 16,
   "metadata": {},
   "outputs": [
    {
     "name": "stdout",
     "output_type": "stream",
     "text": [
      "['作者', '力', '马克思', '注意', '经济学', '角度', '剖析', '当代', '中国', '经济', '细心', '人会', '发现', '中国', '近', '20', '年', '政策措施', '何新', '先生', '文章', '里', '找到', '蛛丝马迹', '作者', '早', '2001', '年', '预言', '十年', '世界', '会', '爆发', '大规模', '金融危机', '非常', '难得', '原因', '作者', '数据', '统计', '严密', '逻辑推理', '国家', '发展', '大计', '重任', '知识分子', '现在', '不多见', '看看', '上市公司', '独立', '懂事', '知道', '认为', '何先生', '了不起', '知识分子']\n",
      "cat: 书籍\n",
      "['喜欢', '张爱玲', '拥有', '两套', '张爱玲', '全集', '新出', '书', '买', '当当', '实惠', '爱到', '好像', '本书', '当做', '广告', '熟悉', '张爱玲', '喜欢', '文字', '劝', '不要', '买', '本书', '沿袭', '张', '风范', '有点', '晦涩', '难懂', '需要', '用心', '仔细阅读', '喜欢', '张', '一定', '读', '下去', '值得', '表扬', '出版商', '封面设计', '真不错', '个人', '非常', '喜欢', '装帧', '考究', '觉得', '超值']\n",
      "cat: 书籍\n"
     ]
    }
   ],
   "source": [
    "def print_cut_review(index):\n",
    "    example = df[df.index == index][['cut_review', 'cat']].values[0]\n",
    "    if len(example) > 0:\n",
    "        print(example[0])\n",
    "        print('cat:', example[1])\n",
    "        \n",
    "print_cut_review(10)\n",
    "print_cut_review(500)"
   ]
  },
  {
   "cell_type": "markdown",
   "metadata": {},
   "source": [
    "### 创建训练集和测试集"
   ]
  },
  {
   "cell_type": "code",
   "execution_count": 21,
   "metadata": {},
   "outputs": [
    {
     "data": {
      "text/plain": [
       "TaggedDocument(words=['平心而论', '价位', '房间', '应该', '算', '不错', '没有', '碰到', '下面', '几件', '事情', '拿到', '房卡', '房间', '居然', '没有', '打扫', '房门', '锁', '发生', '两次', '故障', '锁', '外面', '不用', '钥匙', '打开', '服务员', '很快', '修好', '总是', '怕怕', '宾馆', '主楼', '一道', '边门', '直接', '通往', '公园', '通道', '居然', '门大开', '没有', '门卫', '安保', '措施', '这道', '门', '直接', '二楼', '客房', '走廊', '走廊', '探头', '安全措施', '总让', '放心', '个人感觉', '餐厅', '菜', '太贵', '一盘', '糖醋排骨', '68', '元', '没敢', '点', '要求', '不高', '早上', '自助餐'], tags=['酒店'])"
      ]
     },
     "execution_count": 21,
     "metadata": {},
     "output_type": "execute_result"
    }
   ],
   "source": [
    "#创建训练集和测试集\n",
    "train, test = train_test_split(df, test_size=0.3, random_state=42,stratify = df.cat.values)\n",
    "\n",
    "#创建标签化文档\n",
    "train_tagged = train.apply(\n",
    "    lambda r: TaggedDocument(words=r['cut_review'], tags=[r['cat']]), axis=1)\n",
    "test_tagged = test.apply(\n",
    "    lambda r: TaggedDocument(words=r['cut_review'], tags=[r['cat']]), axis=1)\n",
    "\n",
    "train_tagged.values[30]"
   ]
  },
  {
   "cell_type": "code",
   "execution_count": 24,
   "metadata": {},
   "outputs": [],
   "source": [
    "#CPU内核数\n",
    "cores = multiprocessing.cpu_count()"
   ]
  },
  {
   "cell_type": "markdown",
   "metadata": {},
   "source": [
    "### 训练DBOW模型"
   ]
  },
  {
   "cell_type": "code",
   "execution_count": 41,
   "metadata": {},
   "outputs": [
    {
     "name": "stderr",
     "output_type": "stream",
     "text": [
      "100%|██████████| 43941/43941 [00:00<00:00, 2494442.88it/s]\n"
     ]
    }
   ],
   "source": [
    "from gensim.models import Doc2Vec\n",
    "from tqdm import tqdm\n",
    "\n",
    "model_dbow = Doc2Vec(dm=0,  negative=5, hs=0, min_count=2, sample = 0, workers=cores)\n",
    "model_dbow.build_vocab([x for x in tqdm(train_tagged.values)])"
   ]
  },
  {
   "cell_type": "code",
   "execution_count": 42,
   "metadata": {},
   "outputs": [
    {
     "name": "stderr",
     "output_type": "stream",
     "text": [
      "100%|██████████| 43941/43941 [00:00<00:00, 1764448.24it/s]\n",
      "100%|██████████| 43941/43941 [00:00<00:00, 2868512.25it/s]\n",
      "100%|██████████| 43941/43941 [00:00<00:00, 2949349.68it/s]\n",
      "100%|██████████| 43941/43941 [00:00<00:00, 2926727.94it/s]\n",
      "100%|██████████| 43941/43941 [00:00<00:00, 3037676.56it/s]\n",
      "100%|██████████| 43941/43941 [00:00<00:00, 2978568.62it/s]\n",
      "100%|██████████| 43941/43941 [00:00<00:00, 2916031.08it/s]\n",
      "100%|██████████| 43941/43941 [00:00<00:00, 2966057.45it/s]\n",
      "100%|██████████| 43941/43941 [00:00<00:00, 3016941.05it/s]\n",
      "100%|██████████| 43941/43941 [00:00<00:00, 2992594.29it/s]\n",
      "100%|██████████| 43941/43941 [00:00<00:00, 2998778.24it/s]\n",
      "100%|██████████| 43941/43941 [00:00<00:00, 3024466.45it/s]\n",
      "100%|██████████| 43941/43941 [00:00<00:00, 2929612.34it/s]\n",
      "100%|██████████| 43941/43941 [00:00<00:00, 3025707.78it/s]\n",
      "100%|██████████| 43941/43941 [00:00<00:00, 2901204.42it/s]\n",
      "100%|██████████| 43941/43941 [00:00<00:00, 2952231.56it/s]\n",
      "100%|██████████| 43941/43941 [00:00<00:00, 3027248.44it/s]\n",
      "100%|██████████| 43941/43941 [00:00<00:00, 2873834.99it/s]\n",
      "100%|██████████| 43941/43941 [00:00<00:00, 2884810.87it/s]\n",
      "100%|██████████| 43941/43941 [00:00<00:00, 3009207.33it/s]\n",
      "100%|██████████| 43941/43941 [00:00<00:00, 3058902.13it/s]\n",
      "100%|██████████| 43941/43941 [00:00<00:00, 3006899.84it/s]\n",
      "100%|██████████| 43941/43941 [00:00<00:00, 3034125.94it/s]\n",
      "100%|██████████| 43941/43941 [00:00<00:00, 2959057.09it/s]\n",
      "100%|██████████| 43941/43941 [00:00<00:00, 2911424.61it/s]\n",
      "100%|██████████| 43941/43941 [00:00<00:00, 2899834.98it/s]\n",
      "100%|██████████| 43941/43941 [00:00<00:00, 2900656.49it/s]\n",
      "100%|██████████| 43941/43941 [00:00<00:00, 2886753.84it/s]\n",
      "100%|██████████| 43941/43941 [00:00<00:00, 3018373.93it/s]\n",
      "100%|██████████| 43941/43941 [00:00<00:00, 3045456.85it/s]\n"
     ]
    },
    {
     "name": "stdout",
     "output_type": "stream",
     "text": [
      "CPU times: user 1min 21s, sys: 20.4 s, total: 1min 41s\n",
      "Wall time: 1min 15s\n"
     ]
    }
   ],
   "source": [
    "%%time\n",
    "for epoch in range(30):\n",
    "    model_dbow.train(utils.shuffle([x for x in tqdm(train_tagged.values)]), total_examples=len(train_tagged.values), epochs=1)\n",
    "    model_dbow.alpha -= 0.002\n",
    "    model_dbow.min_alpha = model_dbow.alpha"
   ]
  },
  {
   "cell_type": "markdown",
   "metadata": {},
   "source": [
    "### 生成文档特征向量"
   ]
  },
  {
   "cell_type": "code",
   "execution_count": 43,
   "metadata": {},
   "outputs": [],
   "source": [
    "def vec_for_learning(model, tagged_docs):\n",
    "    sents = tagged_docs.values\n",
    "    targets, regressors = zip(*[(doc.tags[0], model.infer_vector(doc.words, steps=20)) for doc in sents])\n",
    "    return targets, regressors\n",
    "\n",
    "#生成特征向量\n",
    "y_train, X_train = vec_for_learning(model_dbow, train_tagged)\n",
    "y_test, X_test = vec_for_learning(model_dbow, test_tagged)"
   ]
  },
  {
   "cell_type": "markdown",
   "metadata": {},
   "source": [
    "### 预测和评估"
   ]
  },
  {
   "cell_type": "code",
   "execution_count": 44,
   "metadata": {},
   "outputs": [],
   "source": [
    "#使用逻辑回归来预测\n",
    "logreg = LogisticRegression(n_jobs=1, C=1e5)\n",
    "logreg.fit(X_train, y_train)\n",
    "y_pred = logreg.predict(X_test)"
   ]
  },
  {
   "cell_type": "code",
   "execution_count": 45,
   "metadata": {},
   "outputs": [
    {
     "name": "stdout",
     "output_type": "stream",
     "text": [
      "Testing accuracy 0.7770284621920136\n",
      "Testing F1 score: 0.7772072575572019\n"
     ]
    }
   ],
   "source": [
    "from sklearn.metrics import accuracy_score, f1_score\n",
    "\n",
    "print('Testing accuracy %s' % accuracy_score(y_test, y_pred))\n",
    "print('Testing F1 score: {}'.format(f1_score(y_test, y_pred, average='weighted')))"
   ]
  },
  {
   "cell_type": "markdown",
   "metadata": {},
   "source": [
    "### DM模型创建和训练"
   ]
  },
  {
   "cell_type": "code",
   "execution_count": 47,
   "metadata": {},
   "outputs": [
    {
     "name": "stderr",
     "output_type": "stream",
     "text": [
      "100%|██████████| 43941/43941 [00:00<00:00, 2471263.81it/s]\n"
     ]
    }
   ],
   "source": [
    "model_dmm = Doc2Vec(dm=1, dm_mean=1, window=10, negative=5, min_count=1, workers=5, alpha=0.065, min_alpha=0.065)\n",
    "model_dmm.build_vocab([x for x in tqdm(train_tagged.values)])"
   ]
  },
  {
   "cell_type": "code",
   "execution_count": 48,
   "metadata": {},
   "outputs": [
    {
     "name": "stderr",
     "output_type": "stream",
     "text": [
      "100%|██████████| 43941/43941 [00:00<00:00, 1347226.35it/s]\n",
      "100%|██████████| 43941/43941 [00:00<00:00, 3097042.67it/s]\n",
      "100%|██████████| 43941/43941 [00:00<00:00, 3020253.55it/s]\n",
      "100%|██████████| 43941/43941 [00:00<00:00, 3020253.55it/s]\n",
      "100%|██████████| 43941/43941 [00:00<00:00, 3061035.93it/s]\n",
      "100%|██████████| 43941/43941 [00:00<00:00, 2976163.68it/s]\n",
      "100%|██████████| 43941/43941 [00:00<00:00, 3012896.83it/s]\n",
      "100%|██████████| 43941/43941 [00:00<00:00, 3012305.90it/s]\n",
      "100%|██████████| 43941/43941 [00:00<00:00, 3025012.51it/s]\n",
      "100%|██████████| 43941/43941 [00:00<00:00, 3015706.91it/s]\n",
      "100%|██████████| 43941/43941 [00:00<00:00, 2960673.29it/s]\n",
      "100%|██████████| 43941/43941 [00:00<00:00, 2999803.25it/s]\n",
      "100%|██████████| 43941/43941 [00:00<00:00, 2957490.12it/s]\n",
      "100%|██████████| 43941/43941 [00:00<00:00, 2913910.29it/s]\n",
      "100%|██████████| 43941/43941 [00:00<00:00, 3011715.21it/s]\n",
      "100%|██████████| 43941/43941 [00:00<00:00, 3018917.79it/s]\n",
      "100%|██████████| 43941/43941 [00:00<00:00, 3017237.40it/s]\n",
      "100%|██████████| 43941/43941 [00:00<00:00, 3022928.62it/s]\n",
      "100%|██████████| 43941/43941 [00:00<00:00, 2988082.04it/s]\n",
      "100%|██████████| 43941/43941 [00:00<00:00, 2952468.03it/s]\n",
      "100%|██████████| 43941/43941 [00:00<00:00, 2929798.62it/s]\n",
      "100%|██████████| 43941/43941 [00:00<00:00, 3049084.49it/s]\n",
      "100%|██████████| 43941/43941 [00:00<00:00, 3006409.34it/s]\n",
      "100%|██████████| 43941/43941 [00:00<00:00, 3057734.88it/s]\n",
      "100%|██████████| 43941/43941 [00:00<00:00, 3040131.83it/s]\n",
      "100%|██████████| 43941/43941 [00:00<00:00, 2951616.92it/s]\n",
      "100%|██████████| 43941/43941 [00:00<00:00, 3033526.66it/s]\n",
      "100%|██████████| 43941/43941 [00:00<00:00, 3017286.80it/s]\n",
      "100%|██████████| 43941/43941 [00:00<00:00, 3003567.61it/s]\n",
      "100%|██████████| 43941/43941 [00:00<00:00, 3057227.66it/s]\n"
     ]
    },
    {
     "name": "stdout",
     "output_type": "stream",
     "text": [
      "CPU times: user 2min 36s, sys: 1min 58s, total: 4min 34s\n",
      "Wall time: 3min 9s\n"
     ]
    }
   ],
   "source": [
    "%%time\n",
    "for epoch in range(30):\n",
    "    model_dmm.train(utils.shuffle([x for x in tqdm(train_tagged.values)]), total_examples=len(train_tagged.values), epochs=1)\n",
    "    model_dmm.alpha -= 0.002\n",
    "    model_dmm.min_alpha = model_dmm.alpha"
   ]
  },
  {
   "cell_type": "code",
   "execution_count": 50,
   "metadata": {},
   "outputs": [
    {
     "name": "stdout",
     "output_type": "stream",
     "text": [
      "Testing accuracy 0.33804163126593034\n",
      "Testing F1 score: 0.3107571794952185\n"
     ]
    }
   ],
   "source": [
    "y_train, X_train = vec_for_learning(model_dmm, train_tagged)\n",
    "y_test, X_test = vec_for_learning(model_dmm, test_tagged)\n",
    "\n",
    "logreg.fit(X_train, y_train)\n",
    "y_pred = logreg.predict(X_test)\n",
    "\n",
    "print('Testing accuracy %s' % accuracy_score(y_test, y_pred))\n",
    "print('Testing F1 score: {}'.format(f1_score(y_test, y_pred, average='weighted')))"
   ]
  },
  {
   "cell_type": "markdown",
   "metadata": {},
   "source": [
    "### 合成新模型"
   ]
  },
  {
   "cell_type": "code",
   "execution_count": 51,
   "metadata": {},
   "outputs": [],
   "source": [
    "model_dbow.delete_temporary_training_data(keep_doctags_vectors=True, keep_inference=True)\n",
    "model_dmm.delete_temporary_training_data(keep_doctags_vectors=True, keep_inference=True)"
   ]
  },
  {
   "cell_type": "code",
   "execution_count": 52,
   "metadata": {},
   "outputs": [],
   "source": [
    "from gensim.test.test_doc2vec import ConcatenatedDoc2Vec\n",
    "new_model = ConcatenatedDoc2Vec([model_dbow, model_dmm])"
   ]
  },
  {
   "cell_type": "code",
   "execution_count": 53,
   "metadata": {},
   "outputs": [
    {
     "name": "stdout",
     "output_type": "stream",
     "text": [
      "Testing accuracy 0.7891886151231946\n",
      "Testing F1 score: 0.7899100861776134\n"
     ]
    }
   ],
   "source": [
    "def get_vectors(model, tagged_docs):\n",
    "    sents = tagged_docs.values\n",
    "    targets, regressors = zip(*[(doc.tags[0], model.infer_vector(doc.words, steps=20)) for doc in sents])\n",
    "    return targets, regressors\n",
    "\n",
    "y_train, X_train = get_vectors(new_model, train_tagged)\n",
    "y_test, X_test = get_vectors(new_model, test_tagged)\n",
    "\n",
    "logreg.fit(X_train, y_train)\n",
    "y_pred = logreg.predict(X_test)\n",
    "\n",
    "print('Testing accuracy %s' % accuracy_score(y_test, y_pred))\n",
    "print('Testing F1 score: {}'.format(f1_score(y_test, y_pred, average='weighted')))"
   ]
  },
  {
   "cell_type": "code",
   "execution_count": 93,
   "metadata": {},
   "outputs": [],
   "source": []
  },
  {
   "cell_type": "code",
   "execution_count": null,
   "metadata": {},
   "outputs": [],
   "source": []
  },
  {
   "cell_type": "code",
   "execution_count": null,
   "metadata": {},
   "outputs": [],
   "source": []
  },
  {
   "cell_type": "code",
   "execution_count": null,
   "metadata": {},
   "outputs": [],
   "source": []
  }
 ],
 "metadata": {
  "kernelspec": {
   "display_name": "Python 3",
   "language": "python",
   "name": "python3"
  },
  "language_info": {
   "codemirror_mode": {
    "name": "ipython",
    "version": 3
   },
   "file_extension": ".py",
   "mimetype": "text/x-python",
   "name": "python",
   "nbconvert_exporter": "python",
   "pygments_lexer": "ipython3",
   "version": "3.5.2"
  }
 },
 "nbformat": 4,
 "nbformat_minor": 2
}
